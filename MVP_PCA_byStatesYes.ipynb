{
 "cells": [
  {
   "cell_type": "code",
   "execution_count": 204,
   "metadata": {},
   "outputs": [],
   "source": [
    "import pandas as pd\n",
    "\n",
    "\n",
    "from sklearn.preprocessing import scale\n",
    "from sklearn.decomposition import PCA\n",
    "from sklearn.cluster import KMeans\n",
    "\n",
    "from sklearn.preprocessing import LabelEncoder, StandardScaler, MinMaxScaler, RobustScaler\n",
    "\n",
    "from scipy.cluster import hierarchy\n",
    "from scipy.cluster.hierarchy import linkage, dendrogram\n",
    "import matplotlib.pyplot as plt \n",
    "import seaborn as sns\n",
    "%matplotlib inline"
   ]
  },
  {
   "cell_type": "code",
   "execution_count": 233,
   "metadata": {},
   "outputs": [],
   "source": [
    "auto=pd.read_csv('./auto_insurance/train.csv').drop('id', axis=1)\n"
   ]
  },
  {
   "cell_type": "code",
   "execution_count": 234,
   "metadata": {
    "scrolled": false
   },
   "outputs": [
    {
     "data": {
      "text/html": [
       "<div>\n",
       "<style scoped>\n",
       "    .dataframe tbody tr th:only-of-type {\n",
       "        vertical-align: middle;\n",
       "    }\n",
       "\n",
       "    .dataframe tbody tr th {\n",
       "        vertical-align: top;\n",
       "    }\n",
       "\n",
       "    .dataframe thead th {\n",
       "        text-align: right;\n",
       "    }\n",
       "</style>\n",
       "<table border=\"1\" class=\"dataframe\">\n",
       "  <thead>\n",
       "    <tr style=\"text-align: right;\">\n",
       "      <th></th>\n",
       "      <th>Gender</th>\n",
       "      <th>Age</th>\n",
       "      <th>Driving_License</th>\n",
       "      <th>Region_Code</th>\n",
       "      <th>Previously_Insured</th>\n",
       "      <th>Vehicle_Age</th>\n",
       "      <th>Vehicle_Damage</th>\n",
       "      <th>Annual_Premium</th>\n",
       "      <th>Policy_Sales_Channel</th>\n",
       "      <th>Vintage</th>\n",
       "      <th>Response</th>\n",
       "    </tr>\n",
       "  </thead>\n",
       "  <tbody>\n",
       "    <tr>\n",
       "      <th>0</th>\n",
       "      <td>Male</td>\n",
       "      <td>44</td>\n",
       "      <td>1</td>\n",
       "      <td>28.0</td>\n",
       "      <td>0</td>\n",
       "      <td>&gt; 2 Years</td>\n",
       "      <td>Yes</td>\n",
       "      <td>40454.0</td>\n",
       "      <td>26.0</td>\n",
       "      <td>217</td>\n",
       "      <td>1</td>\n",
       "    </tr>\n",
       "    <tr>\n",
       "      <th>1</th>\n",
       "      <td>Male</td>\n",
       "      <td>76</td>\n",
       "      <td>1</td>\n",
       "      <td>3.0</td>\n",
       "      <td>0</td>\n",
       "      <td>1-2 Year</td>\n",
       "      <td>No</td>\n",
       "      <td>33536.0</td>\n",
       "      <td>26.0</td>\n",
       "      <td>183</td>\n",
       "      <td>0</td>\n",
       "    </tr>\n",
       "    <tr>\n",
       "      <th>2</th>\n",
       "      <td>Male</td>\n",
       "      <td>47</td>\n",
       "      <td>1</td>\n",
       "      <td>28.0</td>\n",
       "      <td>0</td>\n",
       "      <td>&gt; 2 Years</td>\n",
       "      <td>Yes</td>\n",
       "      <td>38294.0</td>\n",
       "      <td>26.0</td>\n",
       "      <td>27</td>\n",
       "      <td>1</td>\n",
       "    </tr>\n",
       "    <tr>\n",
       "      <th>3</th>\n",
       "      <td>Male</td>\n",
       "      <td>21</td>\n",
       "      <td>1</td>\n",
       "      <td>11.0</td>\n",
       "      <td>1</td>\n",
       "      <td>&lt; 1 Year</td>\n",
       "      <td>No</td>\n",
       "      <td>28619.0</td>\n",
       "      <td>152.0</td>\n",
       "      <td>203</td>\n",
       "      <td>0</td>\n",
       "    </tr>\n",
       "    <tr>\n",
       "      <th>4</th>\n",
       "      <td>Female</td>\n",
       "      <td>29</td>\n",
       "      <td>1</td>\n",
       "      <td>41.0</td>\n",
       "      <td>1</td>\n",
       "      <td>&lt; 1 Year</td>\n",
       "      <td>No</td>\n",
       "      <td>27496.0</td>\n",
       "      <td>152.0</td>\n",
       "      <td>39</td>\n",
       "      <td>0</td>\n",
       "    </tr>\n",
       "  </tbody>\n",
       "</table>\n",
       "</div>"
      ],
      "text/plain": [
       "   Gender  Age  Driving_License  Region_Code  Previously_Insured Vehicle_Age  \\\n",
       "0    Male   44                1         28.0                   0   > 2 Years   \n",
       "1    Male   76                1          3.0                   0    1-2 Year   \n",
       "2    Male   47                1         28.0                   0   > 2 Years   \n",
       "3    Male   21                1         11.0                   1    < 1 Year   \n",
       "4  Female   29                1         41.0                   1    < 1 Year   \n",
       "\n",
       "  Vehicle_Damage  Annual_Premium  Policy_Sales_Channel  Vintage  Response  \n",
       "0            Yes         40454.0                  26.0      217         1  \n",
       "1             No         33536.0                  26.0      183         0  \n",
       "2            Yes         38294.0                  26.0       27         1  \n",
       "3             No         28619.0                 152.0      203         0  \n",
       "4             No         27496.0                 152.0       39         0  "
      ]
     },
     "execution_count": 234,
     "metadata": {},
     "output_type": "execute_result"
    }
   ],
   "source": [
    "auto.head()"
   ]
  },
  {
   "cell_type": "markdown",
   "metadata": {},
   "source": [
    "## EDA"
   ]
  },
  {
   "cell_type": "code",
   "execution_count": 235,
   "metadata": {},
   "outputs": [
    {
     "data": {
      "text/plain": [
       "(381109, 11)"
      ]
     },
     "execution_count": 235,
     "metadata": {},
     "output_type": "execute_result"
    }
   ],
   "source": [
    "auto.shape"
   ]
  },
  {
   "cell_type": "markdown",
   "metadata": {},
   "source": [
    "## Convert categorical to numerical "
   ]
  },
  {
   "cell_type": "code",
   "execution_count": 236,
   "metadata": {
    "scrolled": true
   },
   "outputs": [],
   "source": [
    "\n",
    "auto['Gender'] = auto['Gender'].map( {'Female': 0, 'Male': 1} ).astype(int)"
   ]
  },
  {
   "cell_type": "code",
   "execution_count": 237,
   "metadata": {},
   "outputs": [],
   "source": [
    "\n",
    "auto['Vehicle_Damage'] = auto['Vehicle_Damage'].map( {'Yes': 1, 'No': 0} ).astype(int)"
   ]
  },
  {
   "cell_type": "markdown",
   "metadata": {},
   "source": [
    "## Assigned dummies "
   ]
  },
  {
   "cell_type": "code",
   "execution_count": 238,
   "metadata": {},
   "outputs": [],
   "source": [
    "auto=pd.get_dummies(auto, columns=['Vehicle_Age'])"
   ]
  },
  {
   "cell_type": "code",
   "execution_count": 239,
   "metadata": {
    "scrolled": false
   },
   "outputs": [
    {
     "data": {
      "text/html": [
       "<div>\n",
       "<style scoped>\n",
       "    .dataframe tbody tr th:only-of-type {\n",
       "        vertical-align: middle;\n",
       "    }\n",
       "\n",
       "    .dataframe tbody tr th {\n",
       "        vertical-align: top;\n",
       "    }\n",
       "\n",
       "    .dataframe thead th {\n",
       "        text-align: right;\n",
       "    }\n",
       "</style>\n",
       "<table border=\"1\" class=\"dataframe\">\n",
       "  <thead>\n",
       "    <tr style=\"text-align: right;\">\n",
       "      <th></th>\n",
       "      <th>Gender</th>\n",
       "      <th>Age</th>\n",
       "      <th>Driving_License</th>\n",
       "      <th>Region_Code</th>\n",
       "      <th>Previously_Insured</th>\n",
       "      <th>Vehicle_Damage</th>\n",
       "      <th>Annual_Premium</th>\n",
       "      <th>Policy_Sales_Channel</th>\n",
       "      <th>Vintage</th>\n",
       "      <th>Response</th>\n",
       "      <th>Vehicle_Age_1-2 Year</th>\n",
       "      <th>Vehicle_Age_&lt; 1 Year</th>\n",
       "      <th>Vehicle_Age_&gt; 2 Years</th>\n",
       "    </tr>\n",
       "  </thead>\n",
       "  <tbody>\n",
       "    <tr>\n",
       "      <th>0</th>\n",
       "      <td>1</td>\n",
       "      <td>44</td>\n",
       "      <td>1</td>\n",
       "      <td>28.0</td>\n",
       "      <td>0</td>\n",
       "      <td>1</td>\n",
       "      <td>40454.0</td>\n",
       "      <td>26.0</td>\n",
       "      <td>217</td>\n",
       "      <td>1</td>\n",
       "      <td>0</td>\n",
       "      <td>0</td>\n",
       "      <td>1</td>\n",
       "    </tr>\n",
       "    <tr>\n",
       "      <th>1</th>\n",
       "      <td>1</td>\n",
       "      <td>76</td>\n",
       "      <td>1</td>\n",
       "      <td>3.0</td>\n",
       "      <td>0</td>\n",
       "      <td>0</td>\n",
       "      <td>33536.0</td>\n",
       "      <td>26.0</td>\n",
       "      <td>183</td>\n",
       "      <td>0</td>\n",
       "      <td>1</td>\n",
       "      <td>0</td>\n",
       "      <td>0</td>\n",
       "    </tr>\n",
       "    <tr>\n",
       "      <th>2</th>\n",
       "      <td>1</td>\n",
       "      <td>47</td>\n",
       "      <td>1</td>\n",
       "      <td>28.0</td>\n",
       "      <td>0</td>\n",
       "      <td>1</td>\n",
       "      <td>38294.0</td>\n",
       "      <td>26.0</td>\n",
       "      <td>27</td>\n",
       "      <td>1</td>\n",
       "      <td>0</td>\n",
       "      <td>0</td>\n",
       "      <td>1</td>\n",
       "    </tr>\n",
       "    <tr>\n",
       "      <th>3</th>\n",
       "      <td>1</td>\n",
       "      <td>21</td>\n",
       "      <td>1</td>\n",
       "      <td>11.0</td>\n",
       "      <td>1</td>\n",
       "      <td>0</td>\n",
       "      <td>28619.0</td>\n",
       "      <td>152.0</td>\n",
       "      <td>203</td>\n",
       "      <td>0</td>\n",
       "      <td>0</td>\n",
       "      <td>1</td>\n",
       "      <td>0</td>\n",
       "    </tr>\n",
       "    <tr>\n",
       "      <th>4</th>\n",
       "      <td>0</td>\n",
       "      <td>29</td>\n",
       "      <td>1</td>\n",
       "      <td>41.0</td>\n",
       "      <td>1</td>\n",
       "      <td>0</td>\n",
       "      <td>27496.0</td>\n",
       "      <td>152.0</td>\n",
       "      <td>39</td>\n",
       "      <td>0</td>\n",
       "      <td>0</td>\n",
       "      <td>1</td>\n",
       "      <td>0</td>\n",
       "    </tr>\n",
       "  </tbody>\n",
       "</table>\n",
       "</div>"
      ],
      "text/plain": [
       "   Gender  Age  Driving_License  Region_Code  Previously_Insured  \\\n",
       "0       1   44                1         28.0                   0   \n",
       "1       1   76                1          3.0                   0   \n",
       "2       1   47                1         28.0                   0   \n",
       "3       1   21                1         11.0                   1   \n",
       "4       0   29                1         41.0                   1   \n",
       "\n",
       "   Vehicle_Damage  Annual_Premium  Policy_Sales_Channel  Vintage  Response  \\\n",
       "0               1         40454.0                  26.0      217         1   \n",
       "1               0         33536.0                  26.0      183         0   \n",
       "2               1         38294.0                  26.0       27         1   \n",
       "3               0         28619.0                 152.0      203         0   \n",
       "4               0         27496.0                 152.0       39         0   \n",
       "\n",
       "   Vehicle_Age_1-2 Year  Vehicle_Age_< 1 Year  Vehicle_Age_> 2 Years  \n",
       "0                     0                     0                      1  \n",
       "1                     1                     0                      0  \n",
       "2                     0                     0                      1  \n",
       "3                     0                     1                      0  \n",
       "4                     0                     1                      0  "
      ]
     },
     "execution_count": 239,
     "metadata": {},
     "output_type": "execute_result"
    }
   ],
   "source": [
    "auto.head()"
   ]
  },
  {
   "cell_type": "code",
   "execution_count": 501,
   "metadata": {
    "scrolled": true
   },
   "outputs": [],
   "source": [
    "#auto.Region_Code.value_counts().nlargest(10)"
   ]
  },
  {
   "cell_type": "code",
   "execution_count": 240,
   "metadata": {},
   "outputs": [
    {
     "data": {
      "text/plain": [
       "(46710, 13)"
      ]
     },
     "execution_count": 240,
     "metadata": {},
     "output_type": "execute_result"
    }
   ],
   "source": [
    "#auto=auto[(auto['Region_Code']==28.0)|(auto['Region_Code']==8.0)|(auto['Region_Code']==46.0)|(auto['Region_Code']==41.0)|(auto['Region_Code']==15.0)|(auto['Region_Code']==30.0)|(auto['Region_Code']==29.0)|(auto['Region_Code']==50.0)|(auto['Region_Code']==3.0)|(auto['Region_Code']==11.0)]\n",
    "auto=auto[auto['Response']==1]\n",
    "auto.shape"
   ]
  },
  {
   "cell_type": "markdown",
   "metadata": {},
   "source": [
    "### rename regions"
   ]
  },
  {
   "cell_type": "code",
   "execution_count": 241,
   "metadata": {},
   "outputs": [
    {
     "data": {
      "text/html": [
       "<div>\n",
       "<style scoped>\n",
       "    .dataframe tbody tr th:only-of-type {\n",
       "        vertical-align: middle;\n",
       "    }\n",
       "\n",
       "    .dataframe tbody tr th {\n",
       "        vertical-align: top;\n",
       "    }\n",
       "\n",
       "    .dataframe thead th {\n",
       "        text-align: right;\n",
       "    }\n",
       "</style>\n",
       "<table border=\"1\" class=\"dataframe\">\n",
       "  <thead>\n",
       "    <tr style=\"text-align: right;\">\n",
       "      <th></th>\n",
       "      <th>Gender</th>\n",
       "      <th>Age</th>\n",
       "      <th>Driving_License</th>\n",
       "      <th>Region_Code</th>\n",
       "      <th>Previously_Insured</th>\n",
       "      <th>Vehicle_Damage</th>\n",
       "      <th>Annual_Premium</th>\n",
       "      <th>Policy_Sales_Channel</th>\n",
       "      <th>Vintage</th>\n",
       "      <th>Response</th>\n",
       "      <th>Vehicle_Age_1-2 Year</th>\n",
       "      <th>Vehicle_Age_&lt; 1 Year</th>\n",
       "      <th>Vehicle_Age_&gt; 2 Years</th>\n",
       "    </tr>\n",
       "  </thead>\n",
       "  <tbody>\n",
       "    <tr>\n",
       "      <th>0</th>\n",
       "      <td>1</td>\n",
       "      <td>44</td>\n",
       "      <td>1</td>\n",
       "      <td>28.0</td>\n",
       "      <td>0</td>\n",
       "      <td>1</td>\n",
       "      <td>40454.0</td>\n",
       "      <td>26.0</td>\n",
       "      <td>217</td>\n",
       "      <td>1</td>\n",
       "      <td>0</td>\n",
       "      <td>0</td>\n",
       "      <td>1</td>\n",
       "    </tr>\n",
       "    <tr>\n",
       "      <th>2</th>\n",
       "      <td>1</td>\n",
       "      <td>47</td>\n",
       "      <td>1</td>\n",
       "      <td>28.0</td>\n",
       "      <td>0</td>\n",
       "      <td>1</td>\n",
       "      <td>38294.0</td>\n",
       "      <td>26.0</td>\n",
       "      <td>27</td>\n",
       "      <td>1</td>\n",
       "      <td>0</td>\n",
       "      <td>0</td>\n",
       "      <td>1</td>\n",
       "    </tr>\n",
       "    <tr>\n",
       "      <th>7</th>\n",
       "      <td>0</td>\n",
       "      <td>56</td>\n",
       "      <td>1</td>\n",
       "      <td>28.0</td>\n",
       "      <td>0</td>\n",
       "      <td>1</td>\n",
       "      <td>32031.0</td>\n",
       "      <td>26.0</td>\n",
       "      <td>72</td>\n",
       "      <td>1</td>\n",
       "      <td>1</td>\n",
       "      <td>0</td>\n",
       "      <td>0</td>\n",
       "    </tr>\n",
       "    <tr>\n",
       "      <th>10</th>\n",
       "      <td>0</td>\n",
       "      <td>47</td>\n",
       "      <td>1</td>\n",
       "      <td>35.0</td>\n",
       "      <td>0</td>\n",
       "      <td>1</td>\n",
       "      <td>47576.0</td>\n",
       "      <td>124.0</td>\n",
       "      <td>46</td>\n",
       "      <td>1</td>\n",
       "      <td>1</td>\n",
       "      <td>0</td>\n",
       "      <td>0</td>\n",
       "    </tr>\n",
       "    <tr>\n",
       "      <th>15</th>\n",
       "      <td>1</td>\n",
       "      <td>37</td>\n",
       "      <td>1</td>\n",
       "      <td>6.0</td>\n",
       "      <td>0</td>\n",
       "      <td>1</td>\n",
       "      <td>2630.0</td>\n",
       "      <td>156.0</td>\n",
       "      <td>147</td>\n",
       "      <td>1</td>\n",
       "      <td>1</td>\n",
       "      <td>0</td>\n",
       "      <td>0</td>\n",
       "    </tr>\n",
       "  </tbody>\n",
       "</table>\n",
       "</div>"
      ],
      "text/plain": [
       "    Gender  Age  Driving_License  Region_Code  Previously_Insured  \\\n",
       "0        1   44                1         28.0                   0   \n",
       "2        1   47                1         28.0                   0   \n",
       "7        0   56                1         28.0                   0   \n",
       "10       0   47                1         35.0                   0   \n",
       "15       1   37                1          6.0                   0   \n",
       "\n",
       "    Vehicle_Damage  Annual_Premium  Policy_Sales_Channel  Vintage  Response  \\\n",
       "0                1         40454.0                  26.0      217         1   \n",
       "2                1         38294.0                  26.0       27         1   \n",
       "7                1         32031.0                  26.0       72         1   \n",
       "10               1         47576.0                 124.0       46         1   \n",
       "15               1          2630.0                 156.0      147         1   \n",
       "\n",
       "    Vehicle_Age_1-2 Year  Vehicle_Age_< 1 Year  Vehicle_Age_> 2 Years  \n",
       "0                      0                     0                      1  \n",
       "2                      0                     0                      1  \n",
       "7                      1                     0                      0  \n",
       "10                     1                     0                      0  \n",
       "15                     1                     0                      0  "
      ]
     },
     "execution_count": 241,
     "metadata": {},
     "output_type": "execute_result"
    }
   ],
   "source": [
    "auto.head()"
   ]
  },
  {
   "cell_type": "markdown",
   "metadata": {},
   "source": [
    "### Grouped by regions"
   ]
  },
  {
   "cell_type": "code",
   "execution_count": 242,
   "metadata": {},
   "outputs": [],
   "source": [
    "autoAll=auto.groupby('Region_Code',as_index=False).agg('mean')\n"
   ]
  },
  {
   "cell_type": "code",
   "execution_count": 243,
   "metadata": {},
   "outputs": [
    {
     "data": {
      "text/html": [
       "<div>\n",
       "<style scoped>\n",
       "    .dataframe tbody tr th:only-of-type {\n",
       "        vertical-align: middle;\n",
       "    }\n",
       "\n",
       "    .dataframe tbody tr th {\n",
       "        vertical-align: top;\n",
       "    }\n",
       "\n",
       "    .dataframe thead th {\n",
       "        text-align: right;\n",
       "    }\n",
       "</style>\n",
       "<table border=\"1\" class=\"dataframe\">\n",
       "  <thead>\n",
       "    <tr style=\"text-align: right;\">\n",
       "      <th></th>\n",
       "      <th>Region_Code</th>\n",
       "      <th>Gender</th>\n",
       "      <th>Age</th>\n",
       "      <th>Driving_License</th>\n",
       "      <th>Previously_Insured</th>\n",
       "      <th>Vehicle_Damage</th>\n",
       "      <th>Annual_Premium</th>\n",
       "      <th>Policy_Sales_Channel</th>\n",
       "      <th>Vintage</th>\n",
       "      <th>Response</th>\n",
       "      <th>Vehicle_Age_1-2 Year</th>\n",
       "      <th>Vehicle_Age_&lt; 1 Year</th>\n",
       "      <th>Vehicle_Age_&gt; 2 Years</th>\n",
       "    </tr>\n",
       "  </thead>\n",
       "  <tbody>\n",
       "    <tr>\n",
       "      <th>0</th>\n",
       "      <td>0.0</td>\n",
       "      <td>0.695402</td>\n",
       "      <td>49.270115</td>\n",
       "      <td>1.000000</td>\n",
       "      <td>0.005747</td>\n",
       "      <td>1.000000</td>\n",
       "      <td>5002.798851</td>\n",
       "      <td>59.793103</td>\n",
       "      <td>159.310345</td>\n",
       "      <td>1.0</td>\n",
       "      <td>0.729885</td>\n",
       "      <td>0.017241</td>\n",
       "      <td>0.252874</td>\n",
       "    </tr>\n",
       "    <tr>\n",
       "      <th>1</th>\n",
       "      <td>1.0</td>\n",
       "      <td>0.623853</td>\n",
       "      <td>44.779817</td>\n",
       "      <td>1.000000</td>\n",
       "      <td>0.009174</td>\n",
       "      <td>0.990826</td>\n",
       "      <td>3131.376147</td>\n",
       "      <td>94.000000</td>\n",
       "      <td>157.889908</td>\n",
       "      <td>1.0</td>\n",
       "      <td>0.788991</td>\n",
       "      <td>0.110092</td>\n",
       "      <td>0.100917</td>\n",
       "    </tr>\n",
       "    <tr>\n",
       "      <th>2</th>\n",
       "      <td>2.0</td>\n",
       "      <td>0.651568</td>\n",
       "      <td>37.498258</td>\n",
       "      <td>0.996516</td>\n",
       "      <td>0.020906</td>\n",
       "      <td>0.972125</td>\n",
       "      <td>25570.641115</td>\n",
       "      <td>117.616725</td>\n",
       "      <td>146.425087</td>\n",
       "      <td>1.0</td>\n",
       "      <td>0.630662</td>\n",
       "      <td>0.310105</td>\n",
       "      <td>0.059233</td>\n",
       "    </tr>\n",
       "  </tbody>\n",
       "</table>\n",
       "</div>"
      ],
      "text/plain": [
       "   Region_Code    Gender        Age  Driving_License  Previously_Insured  \\\n",
       "0          0.0  0.695402  49.270115         1.000000            0.005747   \n",
       "1          1.0  0.623853  44.779817         1.000000            0.009174   \n",
       "2          2.0  0.651568  37.498258         0.996516            0.020906   \n",
       "\n",
       "   Vehicle_Damage  Annual_Premium  Policy_Sales_Channel     Vintage  Response  \\\n",
       "0        1.000000     5002.798851             59.793103  159.310345       1.0   \n",
       "1        0.990826     3131.376147             94.000000  157.889908       1.0   \n",
       "2        0.972125    25570.641115            117.616725  146.425087       1.0   \n",
       "\n",
       "   Vehicle_Age_1-2 Year  Vehicle_Age_< 1 Year  Vehicle_Age_> 2 Years  \n",
       "0              0.729885              0.017241               0.252874  \n",
       "1              0.788991              0.110092               0.100917  \n",
       "2              0.630662              0.310105               0.059233  "
      ]
     },
     "execution_count": 243,
     "metadata": {},
     "output_type": "execute_result"
    }
   ],
   "source": [
    "autoAll.head(3)"
   ]
  },
  {
   "cell_type": "code",
   "execution_count": 244,
   "metadata": {
    "scrolled": false
   },
   "outputs": [
    {
     "data": {
      "text/plain": [
       "(53, 13)"
      ]
     },
     "execution_count": 244,
     "metadata": {},
     "output_type": "execute_result"
    }
   ],
   "source": [
    "#auto=auto.set_index('Region_Code')\n",
    "autoAll.shape"
   ]
  },
  {
   "cell_type": "code",
   "execution_count": 245,
   "metadata": {},
   "outputs": [],
   "source": [
    "cols=['Gender', 'Age', 'Driving_License', 'Previously_Insured', 'Vehicle_Damage', 'Annual_Premium',\n",
    "     'Policy_Sales_Channel', 'Vintage', 'Response', 'Vehicle_Age_1-2 Year','Vehicle_Age_< 1 Year','Vehicle_Age_> 2 Years']\n",
    "autoX=autoAll[cols]"
   ]
  },
  {
   "cell_type": "code",
   "execution_count": 246,
   "metadata": {},
   "outputs": [
    {
     "data": {
      "text/html": [
       "<div>\n",
       "<style scoped>\n",
       "    .dataframe tbody tr th:only-of-type {\n",
       "        vertical-align: middle;\n",
       "    }\n",
       "\n",
       "    .dataframe tbody tr th {\n",
       "        vertical-align: top;\n",
       "    }\n",
       "\n",
       "    .dataframe thead th {\n",
       "        text-align: right;\n",
       "    }\n",
       "</style>\n",
       "<table border=\"1\" class=\"dataframe\">\n",
       "  <thead>\n",
       "    <tr style=\"text-align: right;\">\n",
       "      <th></th>\n",
       "      <th>Gender</th>\n",
       "      <th>Age</th>\n",
       "      <th>Driving_License</th>\n",
       "      <th>Previously_Insured</th>\n",
       "      <th>Vehicle_Damage</th>\n",
       "      <th>Annual_Premium</th>\n",
       "      <th>Policy_Sales_Channel</th>\n",
       "      <th>Vintage</th>\n",
       "      <th>Response</th>\n",
       "      <th>Vehicle_Age_1-2 Year</th>\n",
       "      <th>Vehicle_Age_&lt; 1 Year</th>\n",
       "      <th>Vehicle_Age_&gt; 2 Years</th>\n",
       "    </tr>\n",
       "  </thead>\n",
       "  <tbody>\n",
       "    <tr>\n",
       "      <th>0</th>\n",
       "      <td>0.695402</td>\n",
       "      <td>49.270115</td>\n",
       "      <td>1.000000</td>\n",
       "      <td>0.005747</td>\n",
       "      <td>1.000000</td>\n",
       "      <td>5002.798851</td>\n",
       "      <td>59.793103</td>\n",
       "      <td>159.310345</td>\n",
       "      <td>1.0</td>\n",
       "      <td>0.729885</td>\n",
       "      <td>0.017241</td>\n",
       "      <td>0.252874</td>\n",
       "    </tr>\n",
       "    <tr>\n",
       "      <th>1</th>\n",
       "      <td>0.623853</td>\n",
       "      <td>44.779817</td>\n",
       "      <td>1.000000</td>\n",
       "      <td>0.009174</td>\n",
       "      <td>0.990826</td>\n",
       "      <td>3131.376147</td>\n",
       "      <td>94.000000</td>\n",
       "      <td>157.889908</td>\n",
       "      <td>1.0</td>\n",
       "      <td>0.788991</td>\n",
       "      <td>0.110092</td>\n",
       "      <td>0.100917</td>\n",
       "    </tr>\n",
       "    <tr>\n",
       "      <th>2</th>\n",
       "      <td>0.651568</td>\n",
       "      <td>37.498258</td>\n",
       "      <td>0.996516</td>\n",
       "      <td>0.020906</td>\n",
       "      <td>0.972125</td>\n",
       "      <td>25570.641115</td>\n",
       "      <td>117.616725</td>\n",
       "      <td>146.425087</td>\n",
       "      <td>1.0</td>\n",
       "      <td>0.630662</td>\n",
       "      <td>0.310105</td>\n",
       "      <td>0.059233</td>\n",
       "    </tr>\n",
       "    <tr>\n",
       "      <th>3</th>\n",
       "      <td>0.609653</td>\n",
       "      <td>40.329382</td>\n",
       "      <td>0.998307</td>\n",
       "      <td>0.006774</td>\n",
       "      <td>0.971211</td>\n",
       "      <td>23189.732430</td>\n",
       "      <td>110.138865</td>\n",
       "      <td>154.568163</td>\n",
       "      <td>1.0</td>\n",
       "      <td>0.741744</td>\n",
       "      <td>0.210838</td>\n",
       "      <td>0.047417</td>\n",
       "    </tr>\n",
       "    <tr>\n",
       "      <th>4</th>\n",
       "      <td>0.652632</td>\n",
       "      <td>40.421053</td>\n",
       "      <td>1.000000</td>\n",
       "      <td>0.003509</td>\n",
       "      <td>0.975439</td>\n",
       "      <td>23914.459649</td>\n",
       "      <td>113.491228</td>\n",
       "      <td>156.185965</td>\n",
       "      <td>1.0</td>\n",
       "      <td>0.792982</td>\n",
       "      <td>0.154386</td>\n",
       "      <td>0.052632</td>\n",
       "    </tr>\n",
       "  </tbody>\n",
       "</table>\n",
       "</div>"
      ],
      "text/plain": [
       "     Gender        Age  Driving_License  Previously_Insured  Vehicle_Damage  \\\n",
       "0  0.695402  49.270115         1.000000            0.005747        1.000000   \n",
       "1  0.623853  44.779817         1.000000            0.009174        0.990826   \n",
       "2  0.651568  37.498258         0.996516            0.020906        0.972125   \n",
       "3  0.609653  40.329382         0.998307            0.006774        0.971211   \n",
       "4  0.652632  40.421053         1.000000            0.003509        0.975439   \n",
       "\n",
       "   Annual_Premium  Policy_Sales_Channel     Vintage  Response  \\\n",
       "0     5002.798851             59.793103  159.310345       1.0   \n",
       "1     3131.376147             94.000000  157.889908       1.0   \n",
       "2    25570.641115            117.616725  146.425087       1.0   \n",
       "3    23189.732430            110.138865  154.568163       1.0   \n",
       "4    23914.459649            113.491228  156.185965       1.0   \n",
       "\n",
       "   Vehicle_Age_1-2 Year  Vehicle_Age_< 1 Year  Vehicle_Age_> 2 Years  \n",
       "0              0.729885              0.017241               0.252874  \n",
       "1              0.788991              0.110092               0.100917  \n",
       "2              0.630662              0.310105               0.059233  \n",
       "3              0.741744              0.210838               0.047417  \n",
       "4              0.792982              0.154386               0.052632  "
      ]
     },
     "execution_count": 246,
     "metadata": {},
     "output_type": "execute_result"
    }
   ],
   "source": [
    "autoX.head()"
   ]
  },
  {
   "cell_type": "code",
   "execution_count": 219,
   "metadata": {},
   "outputs": [
    {
     "data": {
      "text/plain": [
       "(53,)"
      ]
     },
     "execution_count": 219,
     "metadata": {},
     "output_type": "execute_result"
    }
   ],
   "source": [
    "df_Region=autoAll['Region_Code']\n",
    "df_Region.shape"
   ]
  },
  {
   "cell_type": "code",
   "execution_count": 18,
   "metadata": {},
   "outputs": [
    {
     "data": {
      "image/png": "[encoded data removed]",
      "text/plain": [
       "<Figure size 720x720 with 12 Axes>"
      ]
     },
     "metadata": {
      "needs_background": "light"
     },
     "output_type": "display_data"
    }
   ],
   "source": [
    "autoX.hist(figsize=(10, 10));"
   ]
  },
  {
   "cell_type": "code",
   "execution_count": 220,
   "metadata": {},
   "outputs": [
    {
     "data": {
      "text/plain": [
       "(53, 12)"
      ]
     },
     "execution_count": 220,
     "metadata": {},
     "output_type": "execute_result"
    }
   ],
   "source": [
    "autoX.shape"
   ]
  },
  {
   "cell_type": "markdown",
   "metadata": {},
   "source": [
    "## Hopkins statistic \n",
    "\n",
    "- I started by checking **Hopkins statistics** in order to access the clusterability of the dataset. A score between 0 and 1, a score around 0.5 express no clusterability, and score tending to zero express high cluster tendency."
   ]
  },
  {
   "cell_type": "code",
   "execution_count": 221,
   "metadata": {},
   "outputs": [
    {
     "data": {
      "text/plain": [
       "0.10019774725440783"
      ]
     },
     "execution_count": 221,
     "metadata": {},
     "output_type": "execute_result"
    }
   ],
   "source": [
    "from pyclustertend import hopkins\n",
    "hopkins(autoX, 50)"
   ]
  },
  {
   "cell_type": "markdown",
   "metadata": {},
   "source": [
    "## Outliers detection "
   ]
  },
  {
   "cell_type": "code",
   "execution_count": 247,
   "metadata": {},
   "outputs": [
    {
     "data": {
      "image/png": "[encoded data removed]",
      "text/plain": [
       "<Figure size 864x576 with 1 Axes>"
      ]
     },
     "metadata": {
      "needs_background": "light"
     },
     "output_type": "display_data"
    }
   ],
   "source": [
    "attributes = ['Age','Annual_Premium','Vintage']\n",
    "plt.rcParams['figure.figsize'] = [12,8]\n",
    "sns.boxplot(data = autoX[attributes], orient=\"v\", palette=\"Set2\" ,whis=1.5,saturation=1, width=0.7)\n",
    "plt.title(\"Outliers Variable Distribution\", fontsize = 14, fontweight = 'bold')\n",
    "plt.ylabel(\"Range\", fontweight = 'bold')\n",
    "plt.xlabel(\"Attributes\", fontweight = 'bold');"
   ]
  },
  {
   "cell_type": "code",
   "execution_count": 149,
   "metadata": {},
   "outputs": [],
   "source": [
    "# # Removing (statistical) outliers for Annual_Premium\n",
    "# cols = [ 'Annual_Premium'] # one or more\n",
    "\n",
    "# Q1 = autoX[cols].quantile(0.25)\n",
    "# Q3 = autoX[cols].quantile(0.75)\n",
    "# IQR = Q3 - Q1\n",
    "\n",
    "# autoX = autoX[~((autoX[cols] < (Q1 - 1.5 * IQR)) |(autoX[cols] > (Q3 + 1.5 * IQR))).any(axis=1)]"
   ]
  },
  {
   "cell_type": "code",
   "execution_count": 180,
   "metadata": {},
   "outputs": [],
   "source": [
    "# attributes = ['Age','Annual_Premium','Vintage']\n",
    "# plt.rcParams['figure.figsize'] = [12,8]\n",
    "# sns.boxplot(data = autoX[attributes], orient=\"v\", palette=\"Set2\" ,whis=1.5,saturation=1, width=0.7)\n",
    "# plt.title(\"Outliers Variable Distribution\", fontsize = 14, fontweight = 'bold')\n",
    "# plt.ylabel(\"Range\", fontweight = 'bold')\n",
    "# plt.xlabel(\"Attributes\", fontweight = 'bold');"
   ]
  },
  {
   "cell_type": "markdown",
   "metadata": {},
   "source": [
    "## Scaling with StandardScaling"
   ]
  },
  {
   "cell_type": "code",
   "execution_count": 248,
   "metadata": {},
   "outputs": [],
   "source": [
    "X=autoX.drop('Response', axis=1)\n"
   ]
  },
  {
   "cell_type": "code",
   "execution_count": 249,
   "metadata": {},
   "outputs": [
    {
     "data": {
      "text/html": [
       "<div>\n",
       "<style scoped>\n",
       "    .dataframe tbody tr th:only-of-type {\n",
       "        vertical-align: middle;\n",
       "    }\n",
       "\n",
       "    .dataframe tbody tr th {\n",
       "        vertical-align: top;\n",
       "    }\n",
       "\n",
       "    .dataframe thead th {\n",
       "        text-align: right;\n",
       "    }\n",
       "</style>\n",
       "<table border=\"1\" class=\"dataframe\">\n",
       "  <thead>\n",
       "    <tr style=\"text-align: right;\">\n",
       "      <th></th>\n",
       "      <th>Gender</th>\n",
       "      <th>Age</th>\n",
       "      <th>Driving_License</th>\n",
       "      <th>Previously_Insured</th>\n",
       "      <th>Vehicle_Damage</th>\n",
       "      <th>Annual_Premium</th>\n",
       "      <th>Policy_Sales_Channel</th>\n",
       "      <th>Vintage</th>\n",
       "      <th>Vehicle_Age_1-2 Year</th>\n",
       "      <th>Vehicle_Age_&lt; 1 Year</th>\n",
       "      <th>Vehicle_Age_&gt; 2 Years</th>\n",
       "    </tr>\n",
       "    <tr>\n",
       "      <th>Region_Code</th>\n",
       "      <th></th>\n",
       "      <th></th>\n",
       "      <th></th>\n",
       "      <th></th>\n",
       "      <th></th>\n",
       "      <th></th>\n",
       "      <th></th>\n",
       "      <th></th>\n",
       "      <th></th>\n",
       "      <th></th>\n",
       "      <th></th>\n",
       "    </tr>\n",
       "  </thead>\n",
       "  <tbody>\n",
       "    <tr>\n",
       "      <th>0.0</th>\n",
       "      <td>0.695402</td>\n",
       "      <td>49.270115</td>\n",
       "      <td>1.000000</td>\n",
       "      <td>0.005747</td>\n",
       "      <td>1.000000</td>\n",
       "      <td>5002.798851</td>\n",
       "      <td>59.793103</td>\n",
       "      <td>159.310345</td>\n",
       "      <td>0.729885</td>\n",
       "      <td>0.017241</td>\n",
       "      <td>0.252874</td>\n",
       "    </tr>\n",
       "    <tr>\n",
       "      <th>1.0</th>\n",
       "      <td>0.623853</td>\n",
       "      <td>44.779817</td>\n",
       "      <td>1.000000</td>\n",
       "      <td>0.009174</td>\n",
       "      <td>0.990826</td>\n",
       "      <td>3131.376147</td>\n",
       "      <td>94.000000</td>\n",
       "      <td>157.889908</td>\n",
       "      <td>0.788991</td>\n",
       "      <td>0.110092</td>\n",
       "      <td>0.100917</td>\n",
       "    </tr>\n",
       "    <tr>\n",
       "      <th>2.0</th>\n",
       "      <td>0.651568</td>\n",
       "      <td>37.498258</td>\n",
       "      <td>0.996516</td>\n",
       "      <td>0.020906</td>\n",
       "      <td>0.972125</td>\n",
       "      <td>25570.641115</td>\n",
       "      <td>117.616725</td>\n",
       "      <td>146.425087</td>\n",
       "      <td>0.630662</td>\n",
       "      <td>0.310105</td>\n",
       "      <td>0.059233</td>\n",
       "    </tr>\n",
       "    <tr>\n",
       "      <th>3.0</th>\n",
       "      <td>0.609653</td>\n",
       "      <td>40.329382</td>\n",
       "      <td>0.998307</td>\n",
       "      <td>0.006774</td>\n",
       "      <td>0.971211</td>\n",
       "      <td>23189.732430</td>\n",
       "      <td>110.138865</td>\n",
       "      <td>154.568163</td>\n",
       "      <td>0.741744</td>\n",
       "      <td>0.210838</td>\n",
       "      <td>0.047417</td>\n",
       "    </tr>\n",
       "    <tr>\n",
       "      <th>4.0</th>\n",
       "      <td>0.652632</td>\n",
       "      <td>40.421053</td>\n",
       "      <td>1.000000</td>\n",
       "      <td>0.003509</td>\n",
       "      <td>0.975439</td>\n",
       "      <td>23914.459649</td>\n",
       "      <td>113.491228</td>\n",
       "      <td>156.185965</td>\n",
       "      <td>0.792982</td>\n",
       "      <td>0.154386</td>\n",
       "      <td>0.052632</td>\n",
       "    </tr>\n",
       "    <tr>\n",
       "      <th>5.0</th>\n",
       "      <td>0.614865</td>\n",
       "      <td>37.263514</td>\n",
       "      <td>1.000000</td>\n",
       "      <td>0.000000</td>\n",
       "      <td>0.959459</td>\n",
       "      <td>23969.162162</td>\n",
       "      <td>111.378378</td>\n",
       "      <td>164.412162</td>\n",
       "      <td>0.506757</td>\n",
       "      <td>0.412162</td>\n",
       "      <td>0.081081</td>\n",
       "    </tr>\n",
       "    <tr>\n",
       "      <th>6.0</th>\n",
       "      <td>0.669704</td>\n",
       "      <td>37.403189</td>\n",
       "      <td>1.000000</td>\n",
       "      <td>0.004556</td>\n",
       "      <td>0.952164</td>\n",
       "      <td>23539.958998</td>\n",
       "      <td>117.353075</td>\n",
       "      <td>150.794989</td>\n",
       "      <td>0.608200</td>\n",
       "      <td>0.366743</td>\n",
       "      <td>0.025057</td>\n",
       "    </tr>\n",
       "    <tr>\n",
       "      <th>7.0</th>\n",
       "      <td>0.587963</td>\n",
       "      <td>44.078704</td>\n",
       "      <td>1.000000</td>\n",
       "      <td>0.000000</td>\n",
       "      <td>0.983796</td>\n",
       "      <td>25426.125000</td>\n",
       "      <td>96.194444</td>\n",
       "      <td>150.268519</td>\n",
       "      <td>0.831019</td>\n",
       "      <td>0.106481</td>\n",
       "      <td>0.062500</td>\n",
       "    </tr>\n",
       "    <tr>\n",
       "      <th>8.0</th>\n",
       "      <td>0.653669</td>\n",
       "      <td>44.752840</td>\n",
       "      <td>0.998158</td>\n",
       "      <td>0.003377</td>\n",
       "      <td>0.983727</td>\n",
       "      <td>34686.067240</td>\n",
       "      <td>87.630949</td>\n",
       "      <td>152.875959</td>\n",
       "      <td>0.790298</td>\n",
       "      <td>0.112680</td>\n",
       "      <td>0.097022</td>\n",
       "    </tr>\n",
       "    <tr>\n",
       "      <th>9.0</th>\n",
       "      <td>0.644269</td>\n",
       "      <td>39.826087</td>\n",
       "      <td>0.996047</td>\n",
       "      <td>0.000000</td>\n",
       "      <td>0.984190</td>\n",
       "      <td>28765.581028</td>\n",
       "      <td>108.798419</td>\n",
       "      <td>147.557312</td>\n",
       "      <td>0.656126</td>\n",
       "      <td>0.276680</td>\n",
       "      <td>0.067194</td>\n",
       "    </tr>\n",
       "    <tr>\n",
       "      <th>10.0</th>\n",
       "      <td>0.604563</td>\n",
       "      <td>36.878327</td>\n",
       "      <td>1.000000</td>\n",
       "      <td>0.007605</td>\n",
       "      <td>0.961977</td>\n",
       "      <td>23569.676806</td>\n",
       "      <td>118.996198</td>\n",
       "      <td>154.509506</td>\n",
       "      <td>0.589354</td>\n",
       "      <td>0.357414</td>\n",
       "      <td>0.053232</td>\n",
       "    </tr>\n",
       "    <tr>\n",
       "      <th>11.0</th>\n",
       "      <td>0.631124</td>\n",
       "      <td>41.170989</td>\n",
       "      <td>1.000000</td>\n",
       "      <td>0.008646</td>\n",
       "      <td>0.955812</td>\n",
       "      <td>25689.235351</td>\n",
       "      <td>103.401537</td>\n",
       "      <td>156.075889</td>\n",
       "      <td>0.752161</td>\n",
       "      <td>0.204611</td>\n",
       "      <td>0.043228</td>\n",
       "    </tr>\n",
       "    <tr>\n",
       "      <th>12.0</th>\n",
       "      <td>0.602564</td>\n",
       "      <td>40.032051</td>\n",
       "      <td>0.996795</td>\n",
       "      <td>0.003205</td>\n",
       "      <td>0.964744</td>\n",
       "      <td>21878.336538</td>\n",
       "      <td>110.458333</td>\n",
       "      <td>153.858974</td>\n",
       "      <td>0.717949</td>\n",
       "      <td>0.250000</td>\n",
       "      <td>0.032051</td>\n",
       "    </tr>\n",
       "    <tr>\n",
       "      <th>13.0</th>\n",
       "      <td>0.631868</td>\n",
       "      <td>37.472527</td>\n",
       "      <td>1.000000</td>\n",
       "      <td>0.005495</td>\n",
       "      <td>0.978022</td>\n",
       "      <td>24143.667582</td>\n",
       "      <td>108.843407</td>\n",
       "      <td>153.804945</td>\n",
       "      <td>0.620879</td>\n",
       "      <td>0.343407</td>\n",
       "      <td>0.035714</td>\n",
       "    </tr>\n",
       "  </tbody>\n",
       "</table>\n",
       "</div>"
      ],
      "text/plain": [
       "               Gender        Age  Driving_License  Previously_Insured  \\\n",
       "Region_Code                                                             \n",
       "0.0          0.695402  49.270115         1.000000            0.005747   \n",
       "1.0          0.623853  44.779817         1.000000            0.009174   \n",
       "2.0          0.651568  37.498258         0.996516            0.020906   \n",
       "3.0          0.609653  40.329382         0.998307            0.006774   \n",
       "4.0          0.652632  40.421053         1.000000            0.003509   \n",
       "5.0          0.614865  37.263514         1.000000            0.000000   \n",
       "6.0          0.669704  37.403189         1.000000            0.004556   \n",
       "7.0          0.587963  44.078704         1.000000            0.000000   \n",
       "8.0          0.653669  44.752840         0.998158            0.003377   \n",
       "9.0          0.644269  39.826087         0.996047            0.000000   \n",
       "10.0         0.604563  36.878327         1.000000            0.007605   \n",
       "11.0         0.631124  41.170989         1.000000            0.008646   \n",
       "12.0         0.602564  40.032051         0.996795            0.003205   \n",
       "13.0         0.631868  37.472527         1.000000            0.005495   \n",
       "\n",
       "             Vehicle_Damage  Annual_Premium  Policy_Sales_Channel     Vintage  \\\n",
       "Region_Code                                                                     \n",
       "0.0                1.000000     5002.798851             59.793103  159.310345   \n",
       "1.0                0.990826     3131.376147             94.000000  157.889908   \n",
       "2.0                0.972125    25570.641115            117.616725  146.425087   \n",
       "3.0                0.971211    23189.732430            110.138865  154.568163   \n",
       "4.0                0.975439    23914.459649            113.491228  156.185965   \n",
       "5.0                0.959459    23969.162162            111.378378  164.412162   \n",
       "6.0                0.952164    23539.958998            117.353075  150.794989   \n",
       "7.0                0.983796    25426.125000             96.194444  150.268519   \n",
       "8.0                0.983727    34686.067240             87.630949  152.875959   \n",
       "9.0                0.984190    28765.581028            108.798419  147.557312   \n",
       "10.0               0.961977    23569.676806            118.996198  154.509506   \n",
       "11.0               0.955812    25689.235351            103.401537  156.075889   \n",
       "12.0               0.964744    21878.336538            110.458333  153.858974   \n",
       "13.0               0.978022    24143.667582            108.843407  153.804945   \n",
       "\n",
       "             Vehicle_Age_1-2 Year  Vehicle_Age_< 1 Year  Vehicle_Age_> 2 Years  \n",
       "Region_Code                                                                     \n",
       "0.0                      0.729885              0.017241               0.252874  \n",
       "1.0                      0.788991              0.110092               0.100917  \n",
       "2.0                      0.630662              0.310105               0.059233  \n",
       "3.0                      0.741744              0.210838               0.047417  \n",
       "4.0                      0.792982              0.154386               0.052632  \n",
       "5.0                      0.506757              0.412162               0.081081  \n",
       "6.0                      0.608200              0.366743               0.025057  \n",
       "7.0                      0.831019              0.106481               0.062500  \n",
       "8.0                      0.790298              0.112680               0.097022  \n",
       "9.0                      0.656126              0.276680               0.067194  \n",
       "10.0                     0.589354              0.357414               0.053232  \n",
       "11.0                     0.752161              0.204611               0.043228  \n",
       "12.0                     0.717949              0.250000               0.032051  \n",
       "13.0                     0.620879              0.343407               0.035714  "
      ]
     },
     "execution_count": 249,
     "metadata": {},
     "output_type": "execute_result"
    }
   ],
   "source": [
    "# set Region_Code as an index\n",
    "X1=auto.groupby('Region_Code',as_index=True).agg('mean').drop('Response',axis=1)\n",
    "X1.head(14)"
   ]
  },
  {
   "cell_type": "code",
   "execution_count": 250,
   "metadata": {},
   "outputs": [],
   "source": [
    "# auto['Region_Code'] = auto['Region_Code'].replace(to_replace=[8,15,28,46,41,0,1,2,3,4,5,6,7,9,10,11,12,13,14,16,17,18,19,20,21,22,23,24,25,26,27,29,30,31,32,33,34,35,36,37,38,39,40,42,43,44,45,47,48,49,50,51,52],\n",
    "#                                                                                 value=['Alabama','Iowa','Nevada','Virginia','SDakota','NDakota','Alaska','Arizona','Arkanzas','California','Colorado','Connecticut','Delaware','Florida',\n",
    "#                                                                                 'Georgia', 'Hawaii', 'Idaho','Illinois','Indiana','Kansas','Kentucky', 'Luisiana','Maine','Maryland','Massachusetts','Michigan',\n",
    "#                                                                                     'Minnesota','Mississippi', 'Missouri','Monatana','Nebraska','New Hampshire','New Jersey','New Mexico','New York','North Carolina','North Dakota','Ohio',\n",
    "#                                                                                      'Oklahoma','Oregon','Pennsylvania', 'Rhode Island','South Carolina','Tennessee','Texas','Utah','Vermont','Washington','West Virginia','Wisconsin','Wyoming',\n",
    "#                                                                                       'Puerto Rico', 'D.C.'],inplace=True)\n",
    "\n",
    "\n",
    "X1.rename({8:'NDakota', 15: 'Iowa', 0:'Alabama', 28:'Nevada', 46:'Virginia',41:'SDakota',1:'Alaska',2:'Arizona',3:'Arkanzas',4:'California',5:'Colorado',6:'Connecticut',7:'Delaware', 9:'Florida',\n",
    "         10:'Georgia',11: 'Hawaii', 12:'Idaho',13:'Illinois',14:'Indiana',16:'Kansas',17:'Kentucky',18:'Luisiana',19:'Maine',20:'Maryland',21:'Massachusetts',22:'Michigan',23:'Minnesota',24:'Mississippi',25:'Missouri',26:'Monatana',27:'Nebraska',\n",
    "         29:'New Hampshire',30:'New Jersey',31:'New Mexico',32:'New York',33:'North Carolina',34:'North Dakota',35:'Ohio',36:'Oklahoma',37:'Oregon',38:'Pennsylvania', 39:'Rhode Island',40:'South Carolina',\n",
    "         42:'Tennessee',43:'Texas',44:'Utah',45:'Vermont',47:'Washington',48:'West Virginia',49:'Wisconsin',50:'Wyoming', 51:'Puerto Rico', 52:'D.C.'}, axis='index',inplace=True)"
   ]
  },
  {
   "cell_type": "code",
   "execution_count": 251,
   "metadata": {},
   "outputs": [
    {
     "data": {
      "text/plain": [
       "(53, 11)"
      ]
     },
     "execution_count": 251,
     "metadata": {},
     "output_type": "execute_result"
    }
   ],
   "source": [
    "scaler=StandardScaler()\n",
    "scaled_X=scaler.fit_transform(X)\n",
    "scaled_X.shape"
   ]
  },
  {
   "cell_type": "code",
   "execution_count": 252,
   "metadata": {},
   "outputs": [],
   "source": [
    "X1 = pd.DataFrame(scale(X1), index=X1.index, columns=X1.columns)"
   ]
  },
  {
   "cell_type": "markdown",
   "metadata": {},
   "source": [
    "## PCA"
   ]
  },
  {
   "cell_type": "code",
   "execution_count": 178,
   "metadata": {},
   "outputs": [],
   "source": [
    "pca_auto_1=PCA().fit(scaled_X)"
   ]
  },
  {
   "cell_type": "markdown",
   "metadata": {},
   "source": [
    "## Scree plot"
   ]
  },
  {
   "cell_type": "code",
   "execution_count": 179,
   "metadata": {},
   "outputs": [
    {
     "data": {
      "text/plain": [
       "(-2.082471200097811, 46.64942400195622)"
      ]
     },
     "execution_count": 179,
     "metadata": {},
     "output_type": "execute_result"
    },
    {
     "data": {
      "image/png": "[encoded data removed]",
      "text/plain": [
       "<Figure size 864x576 with 1 Axes>"
      ]
     },
     "metadata": {
      "needs_background": "light"
     },
     "output_type": "display_data"
    }
   ],
   "source": [
    "import numpy as np\n",
    "fig, ax = plt.subplots(figsize=(12, 8))\n",
    "\n",
    "num_components = pca_auto_1.n_components_\n",
    "idx = np.arange(num_components)\n",
    "vals = pca_auto_1.explained_variance_ratio_*100\n",
    "\n",
    "ax.plot(idx, vals, color='blue')\n",
    "ax.scatter(idx, vals, color='blue', s=50)\n",
    "\n",
    "for i in range(9):\n",
    "    ax.annotate(r\"{:2.2f}%\".format(vals[i]), (idx[i]+0.1, vals[i]+0.5))\n",
    "\n",
    "ax.set_title('Scree Plot')\n",
    "ax.set_xlabel('Principal Components')\n",
    "ax.set_ylabel('% Variance Explained')\n",
    "\n",
    "ax.set_xticklabels(idx+1, fontsize=12)\n",
    "ax.set_xticks(np.arange(9))\n",
    "ax.set_xlim(left=0-0.5, right=8+0.5)\n",
    "ax.set_ylim(top=max(vals)+5)\n",
    "#plt.savefig('./images/PCA__scree-1',dsi=100)\n"
   ]
  },
  {
   "cell_type": "code",
   "execution_count": 180,
   "metadata": {},
   "outputs": [],
   "source": [
    "# Creates  PCA models with only three the first  principal components.\n",
    "pca = PCA(n_components=3) #pca object\n",
    "X_pca = pca.fit_transform(scaled_X) # from 11 features to 3 PCA features\n"
   ]
  },
  {
   "cell_type": "code",
   "execution_count": 181,
   "metadata": {},
   "outputs": [
    {
     "data": {
      "text/html": [
       "<div>\n",
       "<style scoped>\n",
       "    .dataframe tbody tr th:only-of-type {\n",
       "        vertical-align: middle;\n",
       "    }\n",
       "\n",
       "    .dataframe tbody tr th {\n",
       "        vertical-align: top;\n",
       "    }\n",
       "\n",
       "    .dataframe thead th {\n",
       "        text-align: right;\n",
       "    }\n",
       "</style>\n",
       "<table border=\"1\" class=\"dataframe\">\n",
       "  <thead>\n",
       "    <tr style=\"text-align: right;\">\n",
       "      <th></th>\n",
       "      <th>PC1</th>\n",
       "      <th>PC2</th>\n",
       "      <th>PC3</th>\n",
       "    </tr>\n",
       "  </thead>\n",
       "  <tbody>\n",
       "    <tr>\n",
       "      <th>0</th>\n",
       "      <td>5.944859</td>\n",
       "      <td>2.149066</td>\n",
       "      <td>0.667665</td>\n",
       "    </tr>\n",
       "    <tr>\n",
       "      <th>1</th>\n",
       "      <td>2.426677</td>\n",
       "      <td>0.654637</td>\n",
       "      <td>1.651000</td>\n",
       "    </tr>\n",
       "    <tr>\n",
       "      <th>2</th>\n",
       "      <td>-1.966457</td>\n",
       "      <td>-1.282431</td>\n",
       "      <td>2.699027</td>\n",
       "    </tr>\n",
       "    <tr>\n",
       "      <th>3</th>\n",
       "      <td>-0.437731</td>\n",
       "      <td>-0.845176</td>\n",
       "      <td>0.456842</td>\n",
       "    </tr>\n",
       "    <tr>\n",
       "      <th>4</th>\n",
       "      <td>0.258976</td>\n",
       "      <td>-0.039151</td>\n",
       "      <td>0.049686</td>\n",
       "    </tr>\n",
       "  </tbody>\n",
       "</table>\n",
       "</div>"
      ],
      "text/plain": [
       "        PC1       PC2       PC3\n",
       "0  5.944859  2.149066  0.667665\n",
       "1  2.426677  0.654637  1.651000\n",
       "2 -1.966457 -1.282431  2.699027\n",
       "3 -0.437731 -0.845176  0.456842\n",
       "4  0.258976 -0.039151  0.049686"
      ]
     },
     "execution_count": 181,
     "metadata": {},
     "output_type": "execute_result"
    }
   ],
   "source": [
    "# Changes PC arrays into dataframes.\n",
    "df = pd.DataFrame(X_pca, columns=['PC1', 'PC2','PC3'])\n",
    "df.head()"
   ]
  },
  {
   "cell_type": "code",
   "execution_count": 182,
   "metadata": {},
   "outputs": [
    {
     "name": "stdout",
     "output_type": "stream",
     "text": [
      "[0.41649424 0.15029618 0.11323267]\n",
      "The 2 principal components explain 68.0% of the variance in the original data.\n"
     ]
    }
   ],
   "source": [
    "evr = pca.explained_variance_ratio_\n",
    "print(evr)\n",
    "print(\"The 2 principal components explain {0:0.1f}%\"\n",
    "      \" of the variance in the original data.\".format(evr.sum()*100))"
   ]
  },
  {
   "cell_type": "markdown",
   "metadata": {},
   "source": [
    "### Loadings. Dataset X1 with Region_Code set as index"
   ]
  },
  {
   "cell_type": "code",
   "execution_count": 253,
   "metadata": {
    "scrolled": false
   },
   "outputs": [
    {
     "data": {
      "text/html": [
       "<div>\n",
       "<style scoped>\n",
       "    .dataframe tbody tr th:only-of-type {\n",
       "        vertical-align: middle;\n",
       "    }\n",
       "\n",
       "    .dataframe tbody tr th {\n",
       "        vertical-align: top;\n",
       "    }\n",
       "\n",
       "    .dataframe thead th {\n",
       "        text-align: right;\n",
       "    }\n",
       "</style>\n",
       "<table border=\"1\" class=\"dataframe\">\n",
       "  <thead>\n",
       "    <tr style=\"text-align: right;\">\n",
       "      <th></th>\n",
       "      <th>V1</th>\n",
       "      <th>V2</th>\n",
       "      <th>V3</th>\n",
       "    </tr>\n",
       "  </thead>\n",
       "  <tbody>\n",
       "    <tr>\n",
       "      <th>Gender</th>\n",
       "      <td>0.201001</td>\n",
       "      <td>0.295969</td>\n",
       "      <td>0.307419</td>\n",
       "    </tr>\n",
       "    <tr>\n",
       "      <th>Age</th>\n",
       "      <td>0.451641</td>\n",
       "      <td>-0.041041</td>\n",
       "      <td>-0.051156</td>\n",
       "    </tr>\n",
       "    <tr>\n",
       "      <th>Driving_License</th>\n",
       "      <td>-0.004458</td>\n",
       "      <td>0.498702</td>\n",
       "      <td>-0.292266</td>\n",
       "    </tr>\n",
       "    <tr>\n",
       "      <th>Previously_Insured</th>\n",
       "      <td>-0.124227</td>\n",
       "      <td>0.163750</td>\n",
       "      <td>0.676103</td>\n",
       "    </tr>\n",
       "    <tr>\n",
       "      <th>Vehicle_Damage</th>\n",
       "      <td>0.293807</td>\n",
       "      <td>-0.051734</td>\n",
       "      <td>0.288999</td>\n",
       "    </tr>\n",
       "    <tr>\n",
       "      <th>Annual_Premium</th>\n",
       "      <td>-0.135221</td>\n",
       "      <td>-0.113513</td>\n",
       "      <td>-0.462526</td>\n",
       "    </tr>\n",
       "    <tr>\n",
       "      <th>Policy_Sales_Channel</th>\n",
       "      <td>-0.434813</td>\n",
       "      <td>-0.050098</td>\n",
       "      <td>0.130784</td>\n",
       "    </tr>\n",
       "    <tr>\n",
       "      <th>Vintage</th>\n",
       "      <td>0.027721</td>\n",
       "      <td>0.677597</td>\n",
       "      <td>-0.025422</td>\n",
       "    </tr>\n",
       "    <tr>\n",
       "      <th>Vehicle_Age_1-2 Year</th>\n",
       "      <td>0.363223</td>\n",
       "      <td>-0.271390</td>\n",
       "      <td>0.078425</td>\n",
       "    </tr>\n",
       "    <tr>\n",
       "      <th>Vehicle_Age_&lt; 1 Year</th>\n",
       "      <td>-0.442721</td>\n",
       "      <td>0.116930</td>\n",
       "      <td>0.015365</td>\n",
       "    </tr>\n",
       "    <tr>\n",
       "      <th>Vehicle_Age_&gt; 2 Years</th>\n",
       "      <td>0.343215</td>\n",
       "      <td>0.265830</td>\n",
       "      <td>-0.196860</td>\n",
       "    </tr>\n",
       "  </tbody>\n",
       "</table>\n",
       "</div>"
      ],
      "text/plain": [
       "                             V1        V2        V3\n",
       "Gender                 0.201001  0.295969  0.307419\n",
       "Age                    0.451641 -0.041041 -0.051156\n",
       "Driving_License       -0.004458  0.498702 -0.292266\n",
       "Previously_Insured    -0.124227  0.163750  0.676103\n",
       "Vehicle_Damage         0.293807 -0.051734  0.288999\n",
       "Annual_Premium        -0.135221 -0.113513 -0.462526\n",
       "Policy_Sales_Channel  -0.434813 -0.050098  0.130784\n",
       "Vintage                0.027721  0.677597 -0.025422\n",
       "Vehicle_Age_1-2 Year   0.363223 -0.271390  0.078425\n",
       "Vehicle_Age_< 1 Year  -0.442721  0.116930  0.015365\n",
       "Vehicle_Age_> 2 Years  0.343215  0.265830 -0.196860"
      ]
     },
     "execution_count": 253,
     "metadata": {},
     "output_type": "execute_result"
    }
   ],
   "source": [
    "# The loading vectors\n",
    "pca_loadings = pd.DataFrame(PCA(n_components=3).fit(X1).components_.T, index=X1.columns, columns=['V1','V2','V3'])\n",
    "pca_loadings"
   ]
  },
  {
   "cell_type": "code",
   "execution_count": 254,
   "metadata": {
    "scrolled": true
   },
   "outputs": [
    {
     "data": {
      "text/html": [
       "<div>\n",
       "<style scoped>\n",
       "    .dataframe tbody tr th:only-of-type {\n",
       "        vertical-align: middle;\n",
       "    }\n",
       "\n",
       "    .dataframe tbody tr th {\n",
       "        vertical-align: top;\n",
       "    }\n",
       "\n",
       "    .dataframe thead th {\n",
       "        text-align: right;\n",
       "    }\n",
       "</style>\n",
       "<table border=\"1\" class=\"dataframe\">\n",
       "  <thead>\n",
       "    <tr style=\"text-align: right;\">\n",
       "      <th></th>\n",
       "      <th>PC1</th>\n",
       "      <th>PC2</th>\n",
       "      <th>PC3</th>\n",
       "      <th>PC4</th>\n",
       "      <th>PC5</th>\n",
       "      <th>PC6</th>\n",
       "      <th>PC7</th>\n",
       "      <th>PC8</th>\n",
       "      <th>PC9</th>\n",
       "      <th>PC10</th>\n",
       "      <th>PC11</th>\n",
       "    </tr>\n",
       "    <tr>\n",
       "      <th>Region_Code</th>\n",
       "      <th></th>\n",
       "      <th></th>\n",
       "      <th></th>\n",
       "      <th></th>\n",
       "      <th></th>\n",
       "      <th></th>\n",
       "      <th></th>\n",
       "      <th></th>\n",
       "      <th></th>\n",
       "      <th></th>\n",
       "      <th></th>\n",
       "    </tr>\n",
       "  </thead>\n",
       "  <tbody>\n",
       "    <tr>\n",
       "      <th>Alabama</th>\n",
       "      <td>5.944859</td>\n",
       "      <td>2.149066</td>\n",
       "      <td>0.667665</td>\n",
       "      <td>0.480157</td>\n",
       "      <td>2.449510</td>\n",
       "      <td>-0.491196</td>\n",
       "      <td>0.379679</td>\n",
       "      <td>-1.233022</td>\n",
       "      <td>-0.000143</td>\n",
       "      <td>-0.213182</td>\n",
       "      <td>9.412952e-16</td>\n",
       "    </tr>\n",
       "    <tr>\n",
       "      <th>Alaska</th>\n",
       "      <td>2.426677</td>\n",
       "      <td>0.654637</td>\n",
       "      <td>1.651000</td>\n",
       "      <td>2.057563</td>\n",
       "      <td>0.927912</td>\n",
       "      <td>0.013292</td>\n",
       "      <td>-0.033593</td>\n",
       "      <td>0.447202</td>\n",
       "      <td>0.031784</td>\n",
       "      <td>-0.014854</td>\n",
       "      <td>-1.677675e-16</td>\n",
       "    </tr>\n",
       "    <tr>\n",
       "      <th>Arizona</th>\n",
       "      <td>-1.966457</td>\n",
       "      <td>-1.282431</td>\n",
       "      <td>2.699027</td>\n",
       "      <td>-1.577830</td>\n",
       "      <td>0.772888</td>\n",
       "      <td>0.636117</td>\n",
       "      <td>0.107811</td>\n",
       "      <td>-1.194941</td>\n",
       "      <td>-0.480546</td>\n",
       "      <td>-0.222620</td>\n",
       "      <td>-1.361071e-16</td>\n",
       "    </tr>\n",
       "    <tr>\n",
       "      <th>Arkanzas</th>\n",
       "      <td>-0.437731</td>\n",
       "      <td>-0.845176</td>\n",
       "      <td>0.456842</td>\n",
       "      <td>0.043685</td>\n",
       "      <td>-0.010041</td>\n",
       "      <td>0.382767</td>\n",
       "      <td>0.263023</td>\n",
       "      <td>0.505121</td>\n",
       "      <td>-0.082681</td>\n",
       "      <td>-0.197209</td>\n",
       "      <td>4.794442e-16</td>\n",
       "    </tr>\n",
       "    <tr>\n",
       "      <th>California</th>\n",
       "      <td>0.258976</td>\n",
       "      <td>-0.039151</td>\n",
       "      <td>0.049686</td>\n",
       "      <td>0.403252</td>\n",
       "      <td>-1.182512</td>\n",
       "      <td>-0.251483</td>\n",
       "      <td>-0.211605</td>\n",
       "      <td>0.462449</td>\n",
       "      <td>-0.654841</td>\n",
       "      <td>-0.288052</td>\n",
       "      <td>6.074246e-17</td>\n",
       "    </tr>\n",
       "    <tr>\n",
       "      <th>Colorado</th>\n",
       "      <td>-2.377306</td>\n",
       "      <td>1.868110</td>\n",
       "      <td>-1.262124</td>\n",
       "      <td>-0.148719</td>\n",
       "      <td>1.094756</td>\n",
       "      <td>-0.822079</td>\n",
       "      <td>0.688381</td>\n",
       "      <td>0.322876</td>\n",
       "      <td>0.266460</td>\n",
       "      <td>0.030365</td>\n",
       "      <td>2.398097e-16</td>\n",
       "    </tr>\n",
       "    <tr>\n",
       "      <th>Connecticut</th>\n",
       "      <td>-2.444933</td>\n",
       "      <td>0.228766</td>\n",
       "      <td>-0.033252</td>\n",
       "      <td>0.261632</td>\n",
       "      <td>-0.740379</td>\n",
       "      <td>-0.978536</td>\n",
       "      <td>0.507808</td>\n",
       "      <td>-1.167669</td>\n",
       "      <td>0.064987</td>\n",
       "      <td>0.149327</td>\n",
       "      <td>3.409650e-17</td>\n",
       "    </tr>\n",
       "    <tr>\n",
       "      <th>Delaware</th>\n",
       "      <td>1.610085</td>\n",
       "      <td>-1.334880</td>\n",
       "      <td>-0.956418</td>\n",
       "      <td>0.891854</td>\n",
       "      <td>-0.310534</td>\n",
       "      <td>0.176177</td>\n",
       "      <td>-0.939655</td>\n",
       "      <td>0.451970</td>\n",
       "      <td>0.074991</td>\n",
       "      <td>0.013540</td>\n",
       "      <td>-3.159739e-16</td>\n",
       "    </tr>\n",
       "    <tr>\n",
       "      <th>NDakota</th>\n",
       "      <td>2.116237</td>\n",
       "      <td>-1.040709</td>\n",
       "      <td>-0.564769</td>\n",
       "      <td>-1.607407</td>\n",
       "      <td>-0.272159</td>\n",
       "      <td>0.346931</td>\n",
       "      <td>-0.308346</td>\n",
       "      <td>-0.127150</td>\n",
       "      <td>0.207891</td>\n",
       "      <td>-0.017889</td>\n",
       "      <td>5.595221e-16</td>\n",
       "    </tr>\n",
       "    <tr>\n",
       "      <th>Florida</th>\n",
       "      <td>-0.481938</td>\n",
       "      <td>-2.135555</td>\n",
       "      <td>0.179633</td>\n",
       "      <td>-1.808140</td>\n",
       "      <td>0.872140</td>\n",
       "      <td>-1.294243</td>\n",
       "      <td>0.632643</td>\n",
       "      <td>0.177305</td>\n",
       "      <td>-0.212047</td>\n",
       "      <td>0.009672</td>\n",
       "      <td>-1.279506e-16</td>\n",
       "    </tr>\n",
       "    <tr>\n",
       "      <th>Georgia</th>\n",
       "      <td>-2.543029</td>\n",
       "      <td>0.464526</td>\n",
       "      <td>-0.061891</td>\n",
       "      <td>0.404634</td>\n",
       "      <td>0.488246</td>\n",
       "      <td>-0.133074</td>\n",
       "      <td>-0.177287</td>\n",
       "      <td>-0.350182</td>\n",
       "      <td>-0.230612</td>\n",
       "      <td>-0.077948</td>\n",
       "      <td>1.007155e-16</td>\n",
       "    </tr>\n",
       "    <tr>\n",
       "      <th>Hawaii</th>\n",
       "      <td>-0.362439</td>\n",
       "      <td>0.139562</td>\n",
       "      <td>-0.073798</td>\n",
       "      <td>0.413548</td>\n",
       "      <td>-0.963986</td>\n",
       "      <td>0.953723</td>\n",
       "      <td>0.152831</td>\n",
       "      <td>-0.391091</td>\n",
       "      <td>0.334716</td>\n",
       "      <td>-0.115548</td>\n",
       "      <td>-2.642531e-17</td>\n",
       "    </tr>\n",
       "    <tr>\n",
       "      <th>Idaho</th>\n",
       "      <td>-0.903014</td>\n",
       "      <td>-1.593744</td>\n",
       "      <td>0.356136</td>\n",
       "      <td>-0.236813</td>\n",
       "      <td>0.328557</td>\n",
       "      <td>0.054097</td>\n",
       "      <td>1.285366</td>\n",
       "      <td>0.793720</td>\n",
       "      <td>0.267675</td>\n",
       "      <td>-0.129209</td>\n",
       "      <td>2.148377e-16</td>\n",
       "    </tr>\n",
       "    <tr>\n",
       "      <th>Illinois</th>\n",
       "      <td>-1.624483</td>\n",
       "      <td>0.266348</td>\n",
       "      <td>0.138745</td>\n",
       "      <td>0.065630</td>\n",
       "      <td>0.170153</td>\n",
       "      <td>-0.935532</td>\n",
       "      <td>-0.738379</td>\n",
       "      <td>-0.133513</td>\n",
       "      <td>0.373075</td>\n",
       "      <td>-0.143987</td>\n",
       "      <td>-4.517460e-17</td>\n",
       "    </tr>\n",
       "    <tr>\n",
       "      <th>Indiana</th>\n",
       "      <td>-1.056751</td>\n",
       "      <td>0.205506</td>\n",
       "      <td>0.210202</td>\n",
       "      <td>0.698958</td>\n",
       "      <td>-1.200277</td>\n",
       "      <td>0.948774</td>\n",
       "      <td>0.440564</td>\n",
       "      <td>-0.306125</td>\n",
       "      <td>0.038075</td>\n",
       "      <td>-0.162110</td>\n",
       "      <td>-2.956599e-16</td>\n",
       "    </tr>\n",
       "    <tr>\n",
       "      <th>Iowa</th>\n",
       "      <td>-1.186948</td>\n",
       "      <td>0.009010</td>\n",
       "      <td>-1.152853</td>\n",
       "      <td>0.269687</td>\n",
       "      <td>-0.319492</td>\n",
       "      <td>-0.080437</td>\n",
       "      <td>0.083904</td>\n",
       "      <td>0.045567</td>\n",
       "      <td>-0.064270</td>\n",
       "      <td>-0.046010</td>\n",
       "      <td>2.447984e-16</td>\n",
       "    </tr>\n",
       "    <tr>\n",
       "      <th>Kansas</th>\n",
       "      <td>-2.415857</td>\n",
       "      <td>0.303358</td>\n",
       "      <td>-0.936246</td>\n",
       "      <td>0.579056</td>\n",
       "      <td>0.917079</td>\n",
       "      <td>-1.145800</td>\n",
       "      <td>0.185421</td>\n",
       "      <td>-0.359268</td>\n",
       "      <td>-0.261643</td>\n",
       "      <td>0.020860</td>\n",
       "      <td>1.266115e-17</td>\n",
       "    </tr>\n",
       "    <tr>\n",
       "      <th>Kentucky</th>\n",
       "      <td>0.234258</td>\n",
       "      <td>-0.311287</td>\n",
       "      <td>-0.841974</td>\n",
       "      <td>0.587638</td>\n",
       "      <td>-1.686561</td>\n",
       "      <td>1.522471</td>\n",
       "      <td>0.634334</td>\n",
       "      <td>-0.224460</td>\n",
       "      <td>-0.154066</td>\n",
       "      <td>0.085502</td>\n",
       "      <td>2.068709e-16</td>\n",
       "    </tr>\n",
       "    <tr>\n",
       "      <th>Luisiana</th>\n",
       "      <td>-0.553445</td>\n",
       "      <td>0.188281</td>\n",
       "      <td>-0.195088</td>\n",
       "      <td>0.453525</td>\n",
       "      <td>-1.338348</td>\n",
       "      <td>0.124321</td>\n",
       "      <td>0.470835</td>\n",
       "      <td>-0.079703</td>\n",
       "      <td>-0.018498</td>\n",
       "      <td>0.087187</td>\n",
       "      <td>5.006385e-16</td>\n",
       "    </tr>\n",
       "    <tr>\n",
       "      <th>Maine</th>\n",
       "      <td>1.583227</td>\n",
       "      <td>-0.085579</td>\n",
       "      <td>-0.260726</td>\n",
       "      <td>0.088408</td>\n",
       "      <td>0.007524</td>\n",
       "      <td>1.043898</td>\n",
       "      <td>-1.140222</td>\n",
       "      <td>0.288353</td>\n",
       "      <td>0.693253</td>\n",
       "      <td>-0.253506</td>\n",
       "      <td>1.498831e-16</td>\n",
       "    </tr>\n",
       "    <tr>\n",
       "      <th>Maryland</th>\n",
       "      <td>3.215540</td>\n",
       "      <td>0.924554</td>\n",
       "      <td>1.253895</td>\n",
       "      <td>1.831153</td>\n",
       "      <td>0.554628</td>\n",
       "      <td>-0.565238</td>\n",
       "      <td>0.478630</td>\n",
       "      <td>0.505608</td>\n",
       "      <td>-0.376577</td>\n",
       "      <td>0.125137</td>\n",
       "      <td>-1.779767e-16</td>\n",
       "    </tr>\n",
       "    <tr>\n",
       "      <th>Massachusetts</th>\n",
       "      <td>-2.583821</td>\n",
       "      <td>-0.346730</td>\n",
       "      <td>-0.872646</td>\n",
       "      <td>1.037709</td>\n",
       "      <td>0.446610</td>\n",
       "      <td>-0.034041</td>\n",
       "      <td>0.074180</td>\n",
       "      <td>-0.307798</td>\n",
       "      <td>0.238026</td>\n",
       "      <td>0.066829</td>\n",
       "      <td>-3.939769e-16</td>\n",
       "    </tr>\n",
       "    <tr>\n",
       "      <th>Michigan</th>\n",
       "      <td>1.500132</td>\n",
       "      <td>1.585026</td>\n",
       "      <td>0.645014</td>\n",
       "      <td>-0.947633</td>\n",
       "      <td>0.455191</td>\n",
       "      <td>0.367323</td>\n",
       "      <td>-0.777480</td>\n",
       "      <td>-0.470822</td>\n",
       "      <td>-0.215647</td>\n",
       "      <td>0.067252</td>\n",
       "      <td>-3.280409e-16</td>\n",
       "    </tr>\n",
       "    <tr>\n",
       "      <th>Minnesota</th>\n",
       "      <td>-0.238943</td>\n",
       "      <td>-0.212496</td>\n",
       "      <td>0.774139</td>\n",
       "      <td>0.185620</td>\n",
       "      <td>-1.651922</td>\n",
       "      <td>-0.862000</td>\n",
       "      <td>0.021440</td>\n",
       "      <td>-1.195183</td>\n",
       "      <td>-0.063240</td>\n",
       "      <td>-0.052235</td>\n",
       "      <td>1.324892e-16</td>\n",
       "    </tr>\n",
       "    <tr>\n",
       "      <th>Mississippi</th>\n",
       "      <td>0.507521</td>\n",
       "      <td>-1.998699</td>\n",
       "      <td>0.320511</td>\n",
       "      <td>-0.666144</td>\n",
       "      <td>0.086239</td>\n",
       "      <td>-0.030953</td>\n",
       "      <td>0.312178</td>\n",
       "      <td>0.801021</td>\n",
       "      <td>-0.490362</td>\n",
       "      <td>0.177846</td>\n",
       "      <td>1.324555e-16</td>\n",
       "    </tr>\n",
       "    <tr>\n",
       "      <th>Missouri</th>\n",
       "      <td>-0.721771</td>\n",
       "      <td>0.537238</td>\n",
       "      <td>1.909144</td>\n",
       "      <td>-0.185568</td>\n",
       "      <td>0.388686</td>\n",
       "      <td>0.405365</td>\n",
       "      <td>-1.715081</td>\n",
       "      <td>-0.468023</td>\n",
       "      <td>0.337449</td>\n",
       "      <td>0.364076</td>\n",
       "      <td>-5.037176e-16</td>\n",
       "    </tr>\n",
       "    <tr>\n",
       "      <th>Monatana</th>\n",
       "      <td>0.562821</td>\n",
       "      <td>-0.837896</td>\n",
       "      <td>-1.110637</td>\n",
       "      <td>-0.015602</td>\n",
       "      <td>0.623574</td>\n",
       "      <td>-0.660353</td>\n",
       "      <td>-1.295564</td>\n",
       "      <td>-0.221974</td>\n",
       "      <td>-0.619866</td>\n",
       "      <td>0.040004</td>\n",
       "      <td>1.492224e-16</td>\n",
       "    </tr>\n",
       "    <tr>\n",
       "      <th>Nebraska</th>\n",
       "      <td>-3.232748</td>\n",
       "      <td>-2.642679</td>\n",
       "      <td>1.087886</td>\n",
       "      <td>-0.907874</td>\n",
       "      <td>1.524723</td>\n",
       "      <td>0.224154</td>\n",
       "      <td>1.626716</td>\n",
       "      <td>-0.585605</td>\n",
       "      <td>0.330149</td>\n",
       "      <td>0.211672</td>\n",
       "      <td>-3.487115e-17</td>\n",
       "    </tr>\n",
       "    <tr>\n",
       "      <th>Nevada</th>\n",
       "      <td>2.703940</td>\n",
       "      <td>-0.631358</td>\n",
       "      <td>-2.038196</td>\n",
       "      <td>-1.423719</td>\n",
       "      <td>1.032451</td>\n",
       "      <td>1.170193</td>\n",
       "      <td>-1.184539</td>\n",
       "      <td>-0.052547</td>\n",
       "      <td>0.236697</td>\n",
       "      <td>-0.125581</td>\n",
       "      <td>1.813776e-17</td>\n",
       "    </tr>\n",
       "    <tr>\n",
       "      <th>New Hampshire</th>\n",
       "      <td>0.844522</td>\n",
       "      <td>-1.573795</td>\n",
       "      <td>0.342241</td>\n",
       "      <td>-0.936132</td>\n",
       "      <td>-0.497711</td>\n",
       "      <td>0.360772</td>\n",
       "      <td>0.748403</td>\n",
       "      <td>0.503978</td>\n",
       "      <td>0.308559</td>\n",
       "      <td>-0.245338</td>\n",
       "      <td>1.976648e-16</td>\n",
       "    </tr>\n",
       "    <tr>\n",
       "      <th>New Jersey</th>\n",
       "      <td>-2.369020</td>\n",
       "      <td>0.498782</td>\n",
       "      <td>-0.520685</td>\n",
       "      <td>0.502376</td>\n",
       "      <td>-0.590233</td>\n",
       "      <td>-0.616969</td>\n",
       "      <td>0.739878</td>\n",
       "      <td>-0.236687</td>\n",
       "      <td>-0.082742</td>\n",
       "      <td>0.015256</td>\n",
       "      <td>-2.329988e-16</td>\n",
       "    </tr>\n",
       "    <tr>\n",
       "      <th>New Mexico</th>\n",
       "      <td>1.946842</td>\n",
       "      <td>-0.655172</td>\n",
       "      <td>1.313030</td>\n",
       "      <td>2.701540</td>\n",
       "      <td>-0.003117</td>\n",
       "      <td>-0.456170</td>\n",
       "      <td>0.297777</td>\n",
       "      <td>-0.081626</td>\n",
       "      <td>-0.016992</td>\n",
       "      <td>0.086431</td>\n",
       "      <td>2.873038e-16</td>\n",
       "    </tr>\n",
       "    <tr>\n",
       "      <th>New York</th>\n",
       "      <td>-3.520410</td>\n",
       "      <td>0.170159</td>\n",
       "      <td>-1.204183</td>\n",
       "      <td>0.694428</td>\n",
       "      <td>-0.112503</td>\n",
       "      <td>-0.640930</td>\n",
       "      <td>0.663864</td>\n",
       "      <td>-0.122289</td>\n",
       "      <td>0.346517</td>\n",
       "      <td>0.006966</td>\n",
       "      <td>2.531903e-16</td>\n",
       "    </tr>\n",
       "    <tr>\n",
       "      <th>North Carolina</th>\n",
       "      <td>0.953875</td>\n",
       "      <td>-0.572928</td>\n",
       "      <td>-0.142312</td>\n",
       "      <td>-0.305854</td>\n",
       "      <td>-0.111420</td>\n",
       "      <td>0.064005</td>\n",
       "      <td>-0.131218</td>\n",
       "      <td>0.978021</td>\n",
       "      <td>-0.326838</td>\n",
       "      <td>0.151389</td>\n",
       "      <td>-1.071160e-16</td>\n",
       "    </tr>\n",
       "    <tr>\n",
       "      <th>North Dakota</th>\n",
       "      <td>-2.279135</td>\n",
       "      <td>0.847716</td>\n",
       "      <td>-1.418160</td>\n",
       "      <td>0.533624</td>\n",
       "      <td>0.425378</td>\n",
       "      <td>0.131337</td>\n",
       "      <td>0.287149</td>\n",
       "      <td>1.388953</td>\n",
       "      <td>-0.044319</td>\n",
       "      <td>0.042796</td>\n",
       "      <td>-7.058627e-17</td>\n",
       "    </tr>\n",
       "    <tr>\n",
       "      <th>Ohio</th>\n",
       "      <td>0.950734</td>\n",
       "      <td>-0.897655</td>\n",
       "      <td>-0.663341</td>\n",
       "      <td>0.619595</td>\n",
       "      <td>-0.662881</td>\n",
       "      <td>0.104543</td>\n",
       "      <td>-0.383089</td>\n",
       "      <td>-0.396135</td>\n",
       "      <td>0.251803</td>\n",
       "      <td>0.079562</td>\n",
       "      <td>2.828909e-16</td>\n",
       "    </tr>\n",
       "    <tr>\n",
       "      <th>Oklahoma</th>\n",
       "      <td>-1.263857</td>\n",
       "      <td>0.365674</td>\n",
       "      <td>-0.083875</td>\n",
       "      <td>0.157875</td>\n",
       "      <td>-0.795444</td>\n",
       "      <td>0.291380</td>\n",
       "      <td>0.041240</td>\n",
       "      <td>-0.138278</td>\n",
       "      <td>-0.270256</td>\n",
       "      <td>-0.076144</td>\n",
       "      <td>1.608264e-16</td>\n",
       "    </tr>\n",
       "    <tr>\n",
       "      <th>Oregon</th>\n",
       "      <td>-4.112229</td>\n",
       "      <td>0.673669</td>\n",
       "      <td>0.412876</td>\n",
       "      <td>-0.017936</td>\n",
       "      <td>1.409695</td>\n",
       "      <td>0.739412</td>\n",
       "      <td>-0.956958</td>\n",
       "      <td>-0.788813</td>\n",
       "      <td>0.008385</td>\n",
       "      <td>0.309320</td>\n",
       "      <td>3.313659e-16</td>\n",
       "    </tr>\n",
       "    <tr>\n",
       "      <th>Pennsylvania</th>\n",
       "      <td>1.401188</td>\n",
       "      <td>-0.555299</td>\n",
       "      <td>0.030415</td>\n",
       "      <td>0.732696</td>\n",
       "      <td>-1.785636</td>\n",
       "      <td>1.215390</td>\n",
       "      <td>0.349161</td>\n",
       "      <td>-0.673718</td>\n",
       "      <td>-0.148769</td>\n",
       "      <td>0.358773</td>\n",
       "      <td>-3.455704e-17</td>\n",
       "    </tr>\n",
       "    <tr>\n",
       "      <th>Rhode Island</th>\n",
       "      <td>0.566632</td>\n",
       "      <td>-0.010083</td>\n",
       "      <td>-0.473339</td>\n",
       "      <td>0.397027</td>\n",
       "      <td>-0.480888</td>\n",
       "      <td>0.356849</td>\n",
       "      <td>-0.465706</td>\n",
       "      <td>0.774477</td>\n",
       "      <td>-0.235637</td>\n",
       "      <td>-0.072728</td>\n",
       "      <td>2.361275e-16</td>\n",
       "    </tr>\n",
       "    <tr>\n",
       "      <th>South Carolina</th>\n",
       "      <td>0.229629</td>\n",
       "      <td>-0.681650</td>\n",
       "      <td>-0.875068</td>\n",
       "      <td>0.406445</td>\n",
       "      <td>0.946006</td>\n",
       "      <td>-0.753958</td>\n",
       "      <td>-1.370353</td>\n",
       "      <td>0.432025</td>\n",
       "      <td>-0.093973</td>\n",
       "      <td>0.084416</td>\n",
       "      <td>-1.457566e-16</td>\n",
       "    </tr>\n",
       "    <tr>\n",
       "      <th>SDakota</th>\n",
       "      <td>0.253851</td>\n",
       "      <td>-0.323152</td>\n",
       "      <td>-0.698866</td>\n",
       "      <td>-0.527721</td>\n",
       "      <td>-0.474040</td>\n",
       "      <td>0.198142</td>\n",
       "      <td>0.039015</td>\n",
       "      <td>0.197245</td>\n",
       "      <td>0.308069</td>\n",
       "      <td>-0.093852</td>\n",
       "      <td>-1.621066e-16</td>\n",
       "    </tr>\n",
       "    <tr>\n",
       "      <th>Tennessee</th>\n",
       "      <td>1.392561</td>\n",
       "      <td>2.384189</td>\n",
       "      <td>-0.168259</td>\n",
       "      <td>-1.453889</td>\n",
       "      <td>-1.020601</td>\n",
       "      <td>-1.773843</td>\n",
       "      <td>0.758315</td>\n",
       "      <td>-0.416946</td>\n",
       "      <td>0.020878</td>\n",
       "      <td>-0.591828</td>\n",
       "      <td>-5.951577e-16</td>\n",
       "    </tr>\n",
       "    <tr>\n",
       "      <th>Texas</th>\n",
       "      <td>2.038090</td>\n",
       "      <td>-1.753989</td>\n",
       "      <td>1.578272</td>\n",
       "      <td>-1.638405</td>\n",
       "      <td>0.134943</td>\n",
       "      <td>0.252395</td>\n",
       "      <td>0.616925</td>\n",
       "      <td>0.703904</td>\n",
       "      <td>-0.142975</td>\n",
       "      <td>0.136523</td>\n",
       "      <td>-3.645051e-18</td>\n",
       "    </tr>\n",
       "    <tr>\n",
       "      <th>Utah</th>\n",
       "      <td>-2.891833</td>\n",
       "      <td>3.690480</td>\n",
       "      <td>3.437154</td>\n",
       "      <td>-0.742666</td>\n",
       "      <td>-0.397895</td>\n",
       "      <td>1.891468</td>\n",
       "      <td>-0.402352</td>\n",
       "      <td>0.857697</td>\n",
       "      <td>0.003941</td>\n",
       "      <td>-0.128943</td>\n",
       "      <td>1.073379e-16</td>\n",
       "    </tr>\n",
       "    <tr>\n",
       "      <th>Vermont</th>\n",
       "      <td>-0.102562</td>\n",
       "      <td>0.162467</td>\n",
       "      <td>0.497747</td>\n",
       "      <td>0.041830</td>\n",
       "      <td>-0.358797</td>\n",
       "      <td>-0.181978</td>\n",
       "      <td>-0.860472</td>\n",
       "      <td>-0.030130</td>\n",
       "      <td>-0.011008</td>\n",
       "      <td>-0.119413</td>\n",
       "      <td>-3.865319e-17</td>\n",
       "    </tr>\n",
       "    <tr>\n",
       "      <th>Virginia</th>\n",
       "      <td>0.925377</td>\n",
       "      <td>-1.427920</td>\n",
       "      <td>-0.306336</td>\n",
       "      <td>0.142141</td>\n",
       "      <td>0.056335</td>\n",
       "      <td>0.106731</td>\n",
       "      <td>-0.603838</td>\n",
       "      <td>-0.039352</td>\n",
       "      <td>0.024034</td>\n",
       "      <td>-0.083494</td>\n",
       "      <td>-2.781204e-16</td>\n",
       "    </tr>\n",
       "    <tr>\n",
       "      <th>Washington</th>\n",
       "      <td>-0.290909</td>\n",
       "      <td>-0.544550</td>\n",
       "      <td>-0.632507</td>\n",
       "      <td>-0.179588</td>\n",
       "      <td>-0.108887</td>\n",
       "      <td>-0.903373</td>\n",
       "      <td>-1.120439</td>\n",
       "      <td>-0.168809</td>\n",
       "      <td>-0.112127</td>\n",
       "      <td>-0.144971</td>\n",
       "      <td>-1.510156e-16</td>\n",
       "    </tr>\n",
       "    <tr>\n",
       "      <th>West Virginia</th>\n",
       "      <td>3.973896</td>\n",
       "      <td>-0.572463</td>\n",
       "      <td>1.388552</td>\n",
       "      <td>1.263478</td>\n",
       "      <td>0.784547</td>\n",
       "      <td>-0.602448</td>\n",
       "      <td>1.343965</td>\n",
       "      <td>0.516752</td>\n",
       "      <td>0.533748</td>\n",
       "      <td>0.045967</td>\n",
       "      <td>-5.061035e-16</td>\n",
       "    </tr>\n",
       "    <tr>\n",
       "      <th>Wisconsin</th>\n",
       "      <td>-3.953306</td>\n",
       "      <td>1.938385</td>\n",
       "      <td>-0.131678</td>\n",
       "      <td>-0.263322</td>\n",
       "      <td>0.799864</td>\n",
       "      <td>-0.230420</td>\n",
       "      <td>-0.381002</td>\n",
       "      <td>1.543470</td>\n",
       "      <td>0.028925</td>\n",
       "      <td>0.029241</td>\n",
       "      <td>2.195361e-16</td>\n",
       "    </tr>\n",
       "    <tr>\n",
       "      <th>Wyoming</th>\n",
       "      <td>1.650135</td>\n",
       "      <td>-0.709606</td>\n",
       "      <td>-0.693328</td>\n",
       "      <td>-0.151661</td>\n",
       "      <td>-0.194512</td>\n",
       "      <td>-0.077508</td>\n",
       "      <td>-1.062054</td>\n",
       "      <td>-0.594425</td>\n",
       "      <td>0.177382</td>\n",
       "      <td>0.062078</td>\n",
       "      <td>-3.265804e-17</td>\n",
       "    </tr>\n",
       "    <tr>\n",
       "      <th>Puerto Rico</th>\n",
       "      <td>3.474307</td>\n",
       "      <td>2.788980</td>\n",
       "      <td>0.193039</td>\n",
       "      <td>-2.488075</td>\n",
       "      <td>-1.857543</td>\n",
       "      <td>-1.876528</td>\n",
       "      <td>0.108185</td>\n",
       "      <td>0.424594</td>\n",
       "      <td>0.251957</td>\n",
       "      <td>0.628232</td>\n",
       "      <td>2.227459e-16</td>\n",
       "    </tr>\n",
       "    <tr>\n",
       "      <th>D.C.</th>\n",
       "      <td>2.648968</td>\n",
       "      <td>2.572144</td>\n",
       "      <td>-3.220299</td>\n",
       "      <td>-0.716067</td>\n",
       "      <td>1.430683</td>\n",
       "      <td>2.317063</td>\n",
       "      <td>1.919612</td>\n",
       "      <td>-0.566024</td>\n",
       "      <td>-0.348750</td>\n",
       "      <td>0.130428</td>\n",
       "      <td>-4.610423e-16</td>\n",
       "    </tr>\n",
       "  </tbody>\n",
       "</table>\n",
       "</div>"
      ],
      "text/plain": [
       "                     PC1       PC2       PC3       PC4       PC5       PC6  \\\n",
       "Region_Code                                                                  \n",
       "Alabama         5.944859  2.149066  0.667665  0.480157  2.449510 -0.491196   \n",
       "Alaska          2.426677  0.654637  1.651000  2.057563  0.927912  0.013292   \n",
       "Arizona        -1.966457 -1.282431  2.699027 -1.577830  0.772888  0.636117   \n",
       "Arkanzas       -0.437731 -0.845176  0.456842  0.043685 -0.010041  0.382767   \n",
       "California      0.258976 -0.039151  0.049686  0.403252 -1.182512 -0.251483   \n",
       "Colorado       -2.377306  1.868110 -1.262124 -0.148719  1.094756 -0.822079   \n",
       "Connecticut    -2.444933  0.228766 -0.033252  0.261632 -0.740379 -0.978536   \n",
       "Delaware        1.610085 -1.334880 -0.956418  0.891854 -0.310534  0.176177   \n",
       "NDakota         2.116237 -1.040709 -0.564769 -1.607407 -0.272159  0.346931   \n",
       "Florida        -0.481938 -2.135555  0.179633 -1.808140  0.872140 -1.294243   \n",
       "Georgia        -2.543029  0.464526 -0.061891  0.404634  0.488246 -0.133074   \n",
       "Hawaii         -0.362439  0.139562 -0.073798  0.413548 -0.963986  0.953723   \n",
       "Idaho          -0.903014 -1.593744  0.356136 -0.236813  0.328557  0.054097   \n",
       "Illinois       -1.624483  0.266348  0.138745  0.065630  0.170153 -0.935532   \n",
       "Indiana        -1.056751  0.205506  0.210202  0.698958 -1.200277  0.948774   \n",
       "Iowa           -1.186948  0.009010 -1.152853  0.269687 -0.319492 -0.080437   \n",
       "Kansas         -2.415857  0.303358 -0.936246  0.579056  0.917079 -1.145800   \n",
       "Kentucky        0.234258 -0.311287 -0.841974  0.587638 -1.686561  1.522471   \n",
       "Luisiana       -0.553445  0.188281 -0.195088  0.453525 -1.338348  0.124321   \n",
       "Maine           1.583227 -0.085579 -0.260726  0.088408  0.007524  1.043898   \n",
       "Maryland        3.215540  0.924554  1.253895  1.831153  0.554628 -0.565238   \n",
       "Massachusetts  -2.583821 -0.346730 -0.872646  1.037709  0.446610 -0.034041   \n",
       "Michigan        1.500132  1.585026  0.645014 -0.947633  0.455191  0.367323   \n",
       "Minnesota      -0.238943 -0.212496  0.774139  0.185620 -1.651922 -0.862000   \n",
       "Mississippi     0.507521 -1.998699  0.320511 -0.666144  0.086239 -0.030953   \n",
       "Missouri       -0.721771  0.537238  1.909144 -0.185568  0.388686  0.405365   \n",
       "Monatana        0.562821 -0.837896 -1.110637 -0.015602  0.623574 -0.660353   \n",
       "Nebraska       -3.232748 -2.642679  1.087886 -0.907874  1.524723  0.224154   \n",
       "Nevada          2.703940 -0.631358 -2.038196 -1.423719  1.032451  1.170193   \n",
       "New Hampshire   0.844522 -1.573795  0.342241 -0.936132 -0.497711  0.360772   \n",
       "New Jersey     -2.369020  0.498782 -0.520685  0.502376 -0.590233 -0.616969   \n",
       "New Mexico      1.946842 -0.655172  1.313030  2.701540 -0.003117 -0.456170   \n",
       "New York       -3.520410  0.170159 -1.204183  0.694428 -0.112503 -0.640930   \n",
       "North Carolina  0.953875 -0.572928 -0.142312 -0.305854 -0.111420  0.064005   \n",
       "North Dakota   -2.279135  0.847716 -1.418160  0.533624  0.425378  0.131337   \n",
       "Ohio            0.950734 -0.897655 -0.663341  0.619595 -0.662881  0.104543   \n",
       "Oklahoma       -1.263857  0.365674 -0.083875  0.157875 -0.795444  0.291380   \n",
       "Oregon         -4.112229  0.673669  0.412876 -0.017936  1.409695  0.739412   \n",
       "Pennsylvania    1.401188 -0.555299  0.030415  0.732696 -1.785636  1.215390   \n",
       "Rhode Island    0.566632 -0.010083 -0.473339  0.397027 -0.480888  0.356849   \n",
       "South Carolina  0.229629 -0.681650 -0.875068  0.406445  0.946006 -0.753958   \n",
       "SDakota         0.253851 -0.323152 -0.698866 -0.527721 -0.474040  0.198142   \n",
       "Tennessee       1.392561  2.384189 -0.168259 -1.453889 -1.020601 -1.773843   \n",
       "Texas           2.038090 -1.753989  1.578272 -1.638405  0.134943  0.252395   \n",
       "Utah           -2.891833  3.690480  3.437154 -0.742666 -0.397895  1.891468   \n",
       "Vermont        -0.102562  0.162467  0.497747  0.041830 -0.358797 -0.181978   \n",
       "Virginia        0.925377 -1.427920 -0.306336  0.142141  0.056335  0.106731   \n",
       "Washington     -0.290909 -0.544550 -0.632507 -0.179588 -0.108887 -0.903373   \n",
       "West Virginia   3.973896 -0.572463  1.388552  1.263478  0.784547 -0.602448   \n",
       "Wisconsin      -3.953306  1.938385 -0.131678 -0.263322  0.799864 -0.230420   \n",
       "Wyoming         1.650135 -0.709606 -0.693328 -0.151661 -0.194512 -0.077508   \n",
       "Puerto Rico     3.474307  2.788980  0.193039 -2.488075 -1.857543 -1.876528   \n",
       "D.C.            2.648968  2.572144 -3.220299 -0.716067  1.430683  2.317063   \n",
       "\n",
       "                     PC7       PC8       PC9      PC10          PC11  \n",
       "Region_Code                                                           \n",
       "Alabama         0.379679 -1.233022 -0.000143 -0.213182  9.412952e-16  \n",
       "Alaska         -0.033593  0.447202  0.031784 -0.014854 -1.677675e-16  \n",
       "Arizona         0.107811 -1.194941 -0.480546 -0.222620 -1.361071e-16  \n",
       "Arkanzas        0.263023  0.505121 -0.082681 -0.197209  4.794442e-16  \n",
       "California     -0.211605  0.462449 -0.654841 -0.288052  6.074246e-17  \n",
       "Colorado        0.688381  0.322876  0.266460  0.030365  2.398097e-16  \n",
       "Connecticut     0.507808 -1.167669  0.064987  0.149327  3.409650e-17  \n",
       "Delaware       -0.939655  0.451970  0.074991  0.013540 -3.159739e-16  \n",
       "NDakota        -0.308346 -0.127150  0.207891 -0.017889  5.595221e-16  \n",
       "Florida         0.632643  0.177305 -0.212047  0.009672 -1.279506e-16  \n",
       "Georgia        -0.177287 -0.350182 -0.230612 -0.077948  1.007155e-16  \n",
       "Hawaii          0.152831 -0.391091  0.334716 -0.115548 -2.642531e-17  \n",
       "Idaho           1.285366  0.793720  0.267675 -0.129209  2.148377e-16  \n",
       "Illinois       -0.738379 -0.133513  0.373075 -0.143987 -4.517460e-17  \n",
       "Indiana         0.440564 -0.306125  0.038075 -0.162110 -2.956599e-16  \n",
       "Iowa            0.083904  0.045567 -0.064270 -0.046010  2.447984e-16  \n",
       "Kansas          0.185421 -0.359268 -0.261643  0.020860  1.266115e-17  \n",
       "Kentucky        0.634334 -0.224460 -0.154066  0.085502  2.068709e-16  \n",
       "Luisiana        0.470835 -0.079703 -0.018498  0.087187  5.006385e-16  \n",
       "Maine          -1.140222  0.288353  0.693253 -0.253506  1.498831e-16  \n",
       "Maryland        0.478630  0.505608 -0.376577  0.125137 -1.779767e-16  \n",
       "Massachusetts   0.074180 -0.307798  0.238026  0.066829 -3.939769e-16  \n",
       "Michigan       -0.777480 -0.470822 -0.215647  0.067252 -3.280409e-16  \n",
       "Minnesota       0.021440 -1.195183 -0.063240 -0.052235  1.324892e-16  \n",
       "Mississippi     0.312178  0.801021 -0.490362  0.177846  1.324555e-16  \n",
       "Missouri       -1.715081 -0.468023  0.337449  0.364076 -5.037176e-16  \n",
       "Monatana       -1.295564 -0.221974 -0.619866  0.040004  1.492224e-16  \n",
       "Nebraska        1.626716 -0.585605  0.330149  0.211672 -3.487115e-17  \n",
       "Nevada         -1.184539 -0.052547  0.236697 -0.125581  1.813776e-17  \n",
       "New Hampshire   0.748403  0.503978  0.308559 -0.245338  1.976648e-16  \n",
       "New Jersey      0.739878 -0.236687 -0.082742  0.015256 -2.329988e-16  \n",
       "New Mexico      0.297777 -0.081626 -0.016992  0.086431  2.873038e-16  \n",
       "New York        0.663864 -0.122289  0.346517  0.006966  2.531903e-16  \n",
       "North Carolina -0.131218  0.978021 -0.326838  0.151389 -1.071160e-16  \n",
       "North Dakota    0.287149  1.388953 -0.044319  0.042796 -7.058627e-17  \n",
       "Ohio           -0.383089 -0.396135  0.251803  0.079562  2.828909e-16  \n",
       "Oklahoma        0.041240 -0.138278 -0.270256 -0.076144  1.608264e-16  \n",
       "Oregon         -0.956958 -0.788813  0.008385  0.309320  3.313659e-16  \n",
       "Pennsylvania    0.349161 -0.673718 -0.148769  0.358773 -3.455704e-17  \n",
       "Rhode Island   -0.465706  0.774477 -0.235637 -0.072728  2.361275e-16  \n",
       "South Carolina -1.370353  0.432025 -0.093973  0.084416 -1.457566e-16  \n",
       "SDakota         0.039015  0.197245  0.308069 -0.093852 -1.621066e-16  \n",
       "Tennessee       0.758315 -0.416946  0.020878 -0.591828 -5.951577e-16  \n",
       "Texas           0.616925  0.703904 -0.142975  0.136523 -3.645051e-18  \n",
       "Utah           -0.402352  0.857697  0.003941 -0.128943  1.073379e-16  \n",
       "Vermont        -0.860472 -0.030130 -0.011008 -0.119413 -3.865319e-17  \n",
       "Virginia       -0.603838 -0.039352  0.024034 -0.083494 -2.781204e-16  \n",
       "Washington     -1.120439 -0.168809 -0.112127 -0.144971 -1.510156e-16  \n",
       "West Virginia   1.343965  0.516752  0.533748  0.045967 -5.061035e-16  \n",
       "Wisconsin      -0.381002  1.543470  0.028925  0.029241  2.195361e-16  \n",
       "Wyoming        -1.062054 -0.594425  0.177382  0.062078 -3.265804e-17  \n",
       "Puerto Rico     0.108185  0.424594  0.251957  0.628232  2.227459e-16  \n",
       "D.C.            1.919612 -0.566024 -0.348750  0.130428 -4.610423e-16  "
      ]
     },
     "execution_count": 254,
     "metadata": {},
     "output_type": "execute_result"
    }
   ],
   "source": [
    "# Fit the PCA model and transform X1 to get the principal components\n",
    "pca = PCA()\n",
    "df_plot = pd.DataFrame(pca.fit_transform(X1), columns=['PC1', 'PC2', 'PC3','PC4','PC5','PC6','PC7','PC8','PC9','PC10','PC11'], index=X1.index)\n",
    "df_plot"
   ]
  },
  {
   "cell_type": "markdown",
   "metadata": {},
   "source": [
    "### Bi plot displays both PC scores and vectors"
   ]
  },
  {
   "cell_type": "code",
   "execution_count": 256,
   "metadata": {},
   "outputs": [
    {
     "data": {
      "image/png": "[encoded data removed]",
      "text/plain": [
       "<Figure size 1008x720 with 3 Axes>"
      ]
     },
     "metadata": {},
     "output_type": "display_data"
    }
   ],
   "source": [
    "fig , ax1 = plt.subplots(figsize=(14,10))\n",
    "\n",
    "ax1.set_xlim(-4.5,4.5)\n",
    "ax1.set_ylim(-4.5,4.5)\n",
    "\n",
    "# Plot Principal Components 1 and 2\n",
    "for i in df_plot.index:\n",
    "    ax1.annotate(i, (df_plot.PC1.loc[i], -df_plot.PC2.loc[i]), ha='center')\n",
    "\n",
    "# Plot reference lines\n",
    "ax1.hlines(0,-4.5,4.5, linestyles='dotted', colors='grey')\n",
    "ax1.vlines(0,-4.5,4.5, linestyles='dotted', colors='grey')\n",
    "\n",
    "ax1.set_xlabel('First Principal Component')\n",
    "ax1.set_ylabel('Second Principal Component')\n",
    "    \n",
    "# Plot Principal Component loading vectors, using a second y-axis.\n",
    "ax2 = ax1.twinx().twiny() \n",
    "\n",
    "ax2.set_ylim(-1,1)\n",
    "ax2.set_xlim(-1,1)\n",
    "ax2.tick_params(axis='y', colors='orange')\n",
    "ax2.set_xlabel('Principal Component loading vectors', color='orange')\n",
    "\n",
    "# Plot labels for vectors. Variable 'a' is a small offset parameter to separate arrow tip and text.\n",
    "a = 1.07  \n",
    "for i in pca_loadings[['V1', 'V2']].index:\n",
    "    ax2.annotate(i, (pca_loadings.V1.loc[i]*a, -pca_loadings.V2.loc[i]*a), color='orange')\n",
    "\n",
    "# Plot vectors\n",
    "ax2.arrow(0,0,pca_loadings.V1[0], -pca_loadings.V2[0])\n",
    "ax2.arrow(0,0,pca_loadings.V1[1], -pca_loadings.V2[1])\n",
    "ax2.arrow(0,0,pca_loadings.V1[2], -pca_loadings.V2[2])\n",
    "ax2.arrow(0,0,pca_loadings.V1[3], -pca_loadings.V2[3])\n",
    "ax2.arrow(0,0,pca_loadings.V1[4], -pca_loadings.V2[4])\n",
    "ax2.arrow(0,0,pca_loadings.V1[5], -pca_loadings.V2[5])\n",
    "ax2.arrow(0,0,pca_loadings.V1[6], -pca_loadings.V2[6])\n",
    "ax2.arrow(0,0,pca_loadings.V1[7], -pca_loadings.V2[7])\n",
    "ax2.arrow(0,0,pca_loadings.V1[8], -pca_loadings.V2[8])\n",
    "ax2.arrow(0,0,pca_loadings.V1[9], -pca_loadings.V2[9])\n",
    "ax2.arrow(0,0,pca_loadings.V1[10], -pca_loadings.V2[10])\n",
    "#plt.savefig('./images/Bi_plot',dsi=100);"
   ]
  },
  {
   "cell_type": "markdown",
   "metadata": {},
   "source": [
    "## Silhouette_scores \n",
    "**is a method of validation and interpretation of consistency within clusters of data.**\n"
   ]
  },
  {
   "cell_type": "code",
   "execution_count": 81,
   "metadata": {},
   "outputs": [],
   "source": [
    "from sklearn.cluster import KMeans\n",
    "from sklearn.metrics import silhouette_score, silhouette_samples"
   ]
  },
  {
   "cell_type": "code",
   "execution_count": 82,
   "metadata": {},
   "outputs": [],
   "source": [
    "sc=[]\n",
    "K=range(2,5)\n",
    "for k in K:\n",
    "    kmeans=KMeans(n_clusters=k).fit(X_pca)\n",
    "    score = silhouette_score(df, kmeans.labels_)\n",
    "    sc.append(score)\n",
    "    "
   ]
  },
  {
   "cell_type": "code",
   "execution_count": 83,
   "metadata": {},
   "outputs": [
    {
     "data": {
      "text/plain": [
       "''"
      ]
     },
     "execution_count": 83,
     "metadata": {},
     "output_type": "execute_result"
    },
    {
     "data": {
      "image/png": "[encoded data removed]",
      "text/plain": [
       "<Figure size 864x576 with 1 Axes>"
      ]
     },
     "metadata": {
      "needs_background": "light"
     },
     "output_type": "display_data"
    }
   ],
   "source": [
    "fig, ax = plt.subplots(figsize=(12, 8))\n",
    "\n",
    "ax.plot(range(2, 5), sc, color='blue')\n",
    "\n",
    "ax.set_title('Silhouette Coefficients for K_Means')\n",
    "ax.set_xlabel('Number of Clusters')\n",
    "ax.set_ylabel('Silhouette Coefficient')\n",
    "# plt.savefig('../imgs/sil-coef-1.png')\n",
    ";"
   ]
  },
  {
   "cell_type": "code",
   "execution_count": 84,
   "metadata": {},
   "outputs": [],
   "source": [
    "from sklearn import metrics\n",
    "from sklearn.metrics import pairwise_distances\n",
    "import numpy as np\n",
    "from sklearn.cluster import KMeans"
   ]
  },
  {
   "cell_type": "code",
   "execution_count": 85,
   "metadata": {
    "scrolled": true
   },
   "outputs": [
    {
     "data": {
      "text/plain": [
       "0.3655643820656865"
      ]
     },
     "execution_count": 85,
     "metadata": {},
     "output_type": "execute_result"
    }
   ],
   "source": [
    "kmeans_model_3 = KMeans(n_clusters=3, random_state=1).fit(X_pca)# score for 3 clasters\n",
    "labels = kmeans_model_3.labels_\n",
    "metrics.silhouette_score(X_pca, labels)"
   ]
  },
  {
   "cell_type": "markdown",
   "metadata": {
    "scrolled": true
   },
   "source": [
    "**Clustering K=3** \n",
    "\n",
    "- The score is bounded between -1 for incorrect clustering and +1 for highly dense clustering. Scores around zero indicate overlapping clusters.\n",
    "- The score is higher when clusters are dense and well separated, which relates to a standard concept of a cluster.\n"
   ]
  },
  {
   "cell_type": "code",
   "execution_count": 86,
   "metadata": {},
   "outputs": [
    {
     "data": {
      "text/plain": [
       "KMeans(n_clusters=3, n_init=20)"
      ]
     },
     "execution_count": 86,
     "metadata": {},
     "output_type": "execute_result"
    }
   ],
   "source": [
    "km3 = KMeans(n_clusters=3, n_init=20)\n",
    "km3.fit(X_pca)"
   ]
  },
  {
   "cell_type": "code",
   "execution_count": 87,
   "metadata": {
    "scrolled": true
   },
   "outputs": [
    {
     "data": {
      "text/plain": [
       "array([2, 2, 0, 1, 1, 0, 1, 0, 2, 1, 1, 0, 1, 1, 0, 0, 0, 0, 1, 1, 1, 2,\n",
       "       0, 2, 1, 1, 0, 1, 0, 1, 1, 0, 1, 0, 1, 0, 1, 0, 0, 1, 2, 1, 1, 1,\n",
       "       2, 1, 0, 1, 1, 1, 2, 0, 1], dtype=int32)"
      ]
     },
     "execution_count": 87,
     "metadata": {},
     "output_type": "execute_result"
    }
   ],
   "source": [
    "km3.labels_"
   ]
  },
  {
   "cell_type": "code",
   "execution_count": 88,
   "metadata": {},
   "outputs": [
    {
     "data": {
      "text/plain": [
       "1    27\n",
       "0    18\n",
       "2     8\n",
       "dtype: int64"
      ]
     },
     "execution_count": 88,
     "metadata": {},
     "output_type": "execute_result"
    }
   ],
   "source": [
    "pd.Series(km3.labels_).value_counts()"
   ]
  },
  {
   "cell_type": "code",
   "execution_count": 89,
   "metadata": {
    "scrolled": true
   },
   "outputs": [
    {
     "data": {
      "text/plain": [
       "array([[-2.36354981,  0.43310479,  0.12319121],\n",
       "       [ 0.6654428 , -0.75118587, -0.17140925],\n",
       "       [ 3.07211761,  1.56076655,  0.301326  ]])"
      ]
     },
     "execution_count": 89,
     "metadata": {},
     "output_type": "execute_result"
    }
   ],
   "source": [
    "km3.cluster_centers_"
   ]
  },
  {
   "cell_type": "code",
   "execution_count": 90,
   "metadata": {},
   "outputs": [
    {
     "data": {
      "text/plain": [
       "(53, 4)"
      ]
     },
     "execution_count": 90,
     "metadata": {},
     "output_type": "execute_result"
    }
   ],
   "source": [
    "df_km=pd.concat([df.reset_index().drop('index', axis=1), pd.Series(km3.labels_).reset_index().drop('index',axis=1)], axis=1)\n",
    "df_km.columns=['PC1','PC2','PC3','ClusterID']\n",
    "df_km.shape"
   ]
  },
  {
   "cell_type": "code",
   "execution_count": 91,
   "metadata": {},
   "outputs": [],
   "source": [
    "def without_hue(plot, feature):\n",
    "    total = len(feature)\n",
    "    for p in ax.patches:\n",
    "        percentage = '{:.1f}%'.format(100 * p.get_height()/total)\n",
    "        x = p.get_x() + p.get_width() / 2 - 0.05\n",
    "        y = p.get_y() + p.get_height()\n",
    "        ax.annotate(percentage, (x, y), size = 12)\n",
    "    plt.show()"
   ]
  },
  {
   "cell_type": "code",
   "execution_count": 92,
   "metadata": {},
   "outputs": [
    {
     "data": {
      "image/png": "[encoded data removed]",
      "text/plain": [
       "<Figure size 432x288 with 1 Axes>"
      ]
     },
     "metadata": {
      "needs_background": "light"
     },
     "output_type": "display_data"
    }
   ],
   "source": [
    "ax=df_km.ClusterID.value_counts().plot(kind='bar');\n",
    "plt.xticks(size=12)\n",
    "plt.yticks(size=12)\n",
    "without_hue(ax, df_km.ClusterID)"
   ]
  },
  {
   "cell_type": "code",
   "execution_count": 93,
   "metadata": {
    "scrolled": false
   },
   "outputs": [
    {
     "data": {
      "image/png": "[encoded data removed]",
      "text/plain": [
       "<Figure size 432x288 with 1 Axes>"
      ]
     },
     "metadata": {
      "needs_background": "light"
     },
     "output_type": "display_data"
    }
   ],
   "source": [
    "sns.scatterplot(x='PC1', y='PC2', hue='ClusterID', data=df_km, palette='Set2');"
   ]
  },
  {
   "cell_type": "code",
   "execution_count": 94,
   "metadata": {},
   "outputs": [
    {
     "data": {
      "text/html": [
       "<div>\n",
       "<style scoped>\n",
       "    .dataframe tbody tr th:only-of-type {\n",
       "        vertical-align: middle;\n",
       "    }\n",
       "\n",
       "    .dataframe tbody tr th {\n",
       "        vertical-align: top;\n",
       "    }\n",
       "\n",
       "    .dataframe thead th {\n",
       "        text-align: right;\n",
       "    }\n",
       "</style>\n",
       "<table border=\"1\" class=\"dataframe\">\n",
       "  <thead>\n",
       "    <tr style=\"text-align: right;\">\n",
       "      <th></th>\n",
       "      <th>PC1</th>\n",
       "      <th>PC2</th>\n",
       "      <th>PC3</th>\n",
       "      <th>ClusterID</th>\n",
       "    </tr>\n",
       "  </thead>\n",
       "  <tbody>\n",
       "    <tr>\n",
       "      <th>0</th>\n",
       "      <td>5.944859</td>\n",
       "      <td>2.149066</td>\n",
       "      <td>0.667665</td>\n",
       "      <td>2</td>\n",
       "    </tr>\n",
       "    <tr>\n",
       "      <th>1</th>\n",
       "      <td>2.426677</td>\n",
       "      <td>0.654637</td>\n",
       "      <td>1.651000</td>\n",
       "      <td>2</td>\n",
       "    </tr>\n",
       "    <tr>\n",
       "      <th>2</th>\n",
       "      <td>-1.966457</td>\n",
       "      <td>-1.282431</td>\n",
       "      <td>2.699027</td>\n",
       "      <td>0</td>\n",
       "    </tr>\n",
       "    <tr>\n",
       "      <th>3</th>\n",
       "      <td>-0.437731</td>\n",
       "      <td>-0.845176</td>\n",
       "      <td>0.456842</td>\n",
       "      <td>1</td>\n",
       "    </tr>\n",
       "    <tr>\n",
       "      <th>4</th>\n",
       "      <td>0.258976</td>\n",
       "      <td>-0.039151</td>\n",
       "      <td>0.049686</td>\n",
       "      <td>1</td>\n",
       "    </tr>\n",
       "  </tbody>\n",
       "</table>\n",
       "</div>"
      ],
      "text/plain": [
       "        PC1       PC2       PC3  ClusterID\n",
       "0  5.944859  2.149066  0.667665          2\n",
       "1  2.426677  0.654637  1.651000          2\n",
       "2 -1.966457 -1.282431  2.699027          0\n",
       "3 -0.437731 -0.845176  0.456842          1\n",
       "4  0.258976 -0.039151  0.049686          1"
      ]
     },
     "execution_count": 94,
     "metadata": {},
     "output_type": "execute_result"
    }
   ],
   "source": [
    "df_km.head()"
   ]
  },
  {
   "cell_type": "code",
   "execution_count": 95,
   "metadata": {},
   "outputs": [
    {
     "data": {
      "text/plain": [
       "(53, 5)"
      ]
     },
     "execution_count": 95,
     "metadata": {},
     "output_type": "execute_result"
    }
   ],
   "source": [
    "# Viewing the dataset\n",
    "df_temp = pd.concat([df_km,df_Region], axis = 1)\n",
    "df_temp.shape"
   ]
  },
  {
   "cell_type": "code",
   "execution_count": 96,
   "metadata": {
    "scrolled": true
   },
   "outputs": [
    {
     "data": {
      "text/html": [
       "<div>\n",
       "<style scoped>\n",
       "    .dataframe tbody tr th:only-of-type {\n",
       "        vertical-align: middle;\n",
       "    }\n",
       "\n",
       "    .dataframe tbody tr th {\n",
       "        vertical-align: top;\n",
       "    }\n",
       "\n",
       "    .dataframe thead th {\n",
       "        text-align: right;\n",
       "    }\n",
       "</style>\n",
       "<table border=\"1\" class=\"dataframe\">\n",
       "  <thead>\n",
       "    <tr style=\"text-align: right;\">\n",
       "      <th></th>\n",
       "      <th>PC1</th>\n",
       "      <th>PC2</th>\n",
       "      <th>PC3</th>\n",
       "      <th>ClusterID</th>\n",
       "      <th>Region_Code</th>\n",
       "    </tr>\n",
       "  </thead>\n",
       "  <tbody>\n",
       "    <tr>\n",
       "      <th>0</th>\n",
       "      <td>5.944859</td>\n",
       "      <td>2.149066</td>\n",
       "      <td>0.667665</td>\n",
       "      <td>2</td>\n",
       "      <td>Alabama</td>\n",
       "    </tr>\n",
       "    <tr>\n",
       "      <th>1</th>\n",
       "      <td>2.426677</td>\n",
       "      <td>0.654637</td>\n",
       "      <td>1.651000</td>\n",
       "      <td>2</td>\n",
       "      <td>Alaska</td>\n",
       "    </tr>\n",
       "    <tr>\n",
       "      <th>2</th>\n",
       "      <td>-1.966457</td>\n",
       "      <td>-1.282431</td>\n",
       "      <td>2.699027</td>\n",
       "      <td>0</td>\n",
       "      <td>Arizona</td>\n",
       "    </tr>\n",
       "    <tr>\n",
       "      <th>3</th>\n",
       "      <td>-0.437731</td>\n",
       "      <td>-0.845176</td>\n",
       "      <td>0.456842</td>\n",
       "      <td>1</td>\n",
       "      <td>Arkanzas</td>\n",
       "    </tr>\n",
       "    <tr>\n",
       "      <th>4</th>\n",
       "      <td>0.258976</td>\n",
       "      <td>-0.039151</td>\n",
       "      <td>0.049686</td>\n",
       "      <td>1</td>\n",
       "      <td>California</td>\n",
       "    </tr>\n",
       "  </tbody>\n",
       "</table>\n",
       "</div>"
      ],
      "text/plain": [
       "        PC1       PC2       PC3  ClusterID Region_Code\n",
       "0  5.944859  2.149066  0.667665          2     Alabama\n",
       "1  2.426677  0.654637  1.651000          2      Alaska\n",
       "2 -1.966457 -1.282431  2.699027          0     Arizona\n",
       "3 -0.437731 -0.845176  0.456842          1    Arkanzas\n",
       "4  0.258976 -0.039151  0.049686          1  California"
      ]
     },
     "execution_count": 96,
     "metadata": {},
     "output_type": "execute_result"
    }
   ],
   "source": [
    "df_temp.head()"
   ]
  },
  {
   "cell_type": "code",
   "execution_count": 97,
   "metadata": {},
   "outputs": [
    {
     "data": {
      "text/plain": [
       "(53, 13)"
      ]
     },
     "execution_count": 97,
     "metadata": {},
     "output_type": "execute_result"
    }
   ],
   "source": [
    "autoAll.shape"
   ]
  },
  {
   "cell_type": "code",
   "execution_count": 98,
   "metadata": {},
   "outputs": [
    {
     "data": {
      "text/plain": [
       "(53, 14)"
      ]
     },
     "execution_count": 98,
     "metadata": {},
     "output_type": "execute_result"
    }
   ],
   "source": [
    "# Viewing the Cluster Profiling dataset\n",
    "df_ClusterProfiling = pd.merge(autoAll, df_temp[['ClusterID', 'Region_Code']], on = 'Region_Code')\n",
    "df_ClusterProfiling.shape"
   ]
  },
  {
   "cell_type": "markdown",
   "metadata": {},
   "source": [
    "## Rename Regions"
   ]
  },
  {
   "cell_type": "code",
   "execution_count": 106,
   "metadata": {},
   "outputs": [],
   "source": [
    "#df_ClusterProfiling['Region_Code'] = df_ClusterProfiling['Region_Code'].replace(to_replace=[8,15,28,46,41,0,1,2,3,4,5,6,7,9,10,11,12,13,14,16,17,18,19,20,21,22,23,24,25,26,27,29,30,31,32,33,34,35,36,37,38,39,40,42,43,44,45,47,48,49,50],\n",
    "                                                                                #value=['Columbia','Iowa','Nevada','Virginia','SDakota','Alabama','Alaska','Arizona','Arkanzas','California','Colorado','Connecticut','Delaware','Florida',\n",
    "                                                                                #'Georgia', 'Hawaii', 'Idaho','Illinois','Indiana','Kansas','Kentucky', 'Luisiana','Maine','Maryland','Massachusetts','Michigan',\n",
    "                                                                                    #'Minnesota','Mississippi', 'Missouri','Monatana','Nebraska','New Hampshire','New Jersey','New Mexico','New York','North Carolina','North Dakota','Ohio',\n",
    "                                                                                     #'Oklahoma','Oregon','Pennsylvania', 'Rhode Island','South Carolina','Tennessee','Texas','Utah','Vermont','Washington','West Virginia','Wisconsin','Wyoming'])\n",
    "\n"
   ]
  },
  {
   "cell_type": "code",
   "execution_count": 99,
   "metadata": {},
   "outputs": [
    {
     "data": {
      "text/plain": [
       "(53, 14)"
      ]
     },
     "execution_count": 99,
     "metadata": {},
     "output_type": "execute_result"
    }
   ],
   "source": [
    "df_ClusterProfiling.shape"
   ]
  },
  {
   "cell_type": "markdown",
   "metadata": {},
   "source": [
    "## Set Clusters as Index"
   ]
  },
  {
   "cell_type": "code",
   "execution_count": 254,
   "metadata": {
    "scrolled": true
   },
   "outputs": [],
   "source": [
    "# # Clustering the numerical columns by Cluster ID\n",
    "# df_ClusterProfiling.set_index('ClusterID')\n",
    "# df_ClusterProfiling.shape"
   ]
  },
  {
   "cell_type": "code",
   "execution_count": 100,
   "metadata": {
    "scrolled": true
   },
   "outputs": [
    {
     "data": {
      "text/html": [
       "<div>\n",
       "<style scoped>\n",
       "    .dataframe tbody tr th:only-of-type {\n",
       "        vertical-align: middle;\n",
       "    }\n",
       "\n",
       "    .dataframe tbody tr th {\n",
       "        vertical-align: top;\n",
       "    }\n",
       "\n",
       "    .dataframe thead th {\n",
       "        text-align: right;\n",
       "    }\n",
       "</style>\n",
       "<table border=\"1\" class=\"dataframe\">\n",
       "  <thead>\n",
       "    <tr style=\"text-align: right;\">\n",
       "      <th></th>\n",
       "      <th>Region_Code</th>\n",
       "      <th>Gender</th>\n",
       "      <th>Age</th>\n",
       "      <th>Driving_License</th>\n",
       "      <th>Previously_Insured</th>\n",
       "      <th>Vehicle_Damage</th>\n",
       "      <th>Annual_Premium</th>\n",
       "      <th>Policy_Sales_Channel</th>\n",
       "      <th>Vintage</th>\n",
       "      <th>Response</th>\n",
       "      <th>Vehicle_Age_1-2 Year</th>\n",
       "      <th>Vehicle_Age_&lt; 1 Year</th>\n",
       "      <th>Vehicle_Age_&gt; 2 Years</th>\n",
       "      <th>ClusterID</th>\n",
       "    </tr>\n",
       "  </thead>\n",
       "  <tbody>\n",
       "    <tr>\n",
       "      <th>0</th>\n",
       "      <td>Alabama</td>\n",
       "      <td>0.695402</td>\n",
       "      <td>49.270115</td>\n",
       "      <td>1.000000</td>\n",
       "      <td>0.005747</td>\n",
       "      <td>1.000000</td>\n",
       "      <td>5002.798851</td>\n",
       "      <td>59.793103</td>\n",
       "      <td>159.310345</td>\n",
       "      <td>1.0</td>\n",
       "      <td>0.729885</td>\n",
       "      <td>0.017241</td>\n",
       "      <td>0.252874</td>\n",
       "      <td>2</td>\n",
       "    </tr>\n",
       "    <tr>\n",
       "      <th>1</th>\n",
       "      <td>Alaska</td>\n",
       "      <td>0.623853</td>\n",
       "      <td>44.779817</td>\n",
       "      <td>1.000000</td>\n",
       "      <td>0.009174</td>\n",
       "      <td>0.990826</td>\n",
       "      <td>3131.376147</td>\n",
       "      <td>94.000000</td>\n",
       "      <td>157.889908</td>\n",
       "      <td>1.0</td>\n",
       "      <td>0.788991</td>\n",
       "      <td>0.110092</td>\n",
       "      <td>0.100917</td>\n",
       "      <td>2</td>\n",
       "    </tr>\n",
       "    <tr>\n",
       "      <th>2</th>\n",
       "      <td>Arizona</td>\n",
       "      <td>0.651568</td>\n",
       "      <td>37.498258</td>\n",
       "      <td>0.996516</td>\n",
       "      <td>0.020906</td>\n",
       "      <td>0.972125</td>\n",
       "      <td>25570.641115</td>\n",
       "      <td>117.616725</td>\n",
       "      <td>146.425087</td>\n",
       "      <td>1.0</td>\n",
       "      <td>0.630662</td>\n",
       "      <td>0.310105</td>\n",
       "      <td>0.059233</td>\n",
       "      <td>0</td>\n",
       "    </tr>\n",
       "    <tr>\n",
       "      <th>3</th>\n",
       "      <td>Arkanzas</td>\n",
       "      <td>0.609653</td>\n",
       "      <td>40.329382</td>\n",
       "      <td>0.998307</td>\n",
       "      <td>0.006774</td>\n",
       "      <td>0.971211</td>\n",
       "      <td>23189.732430</td>\n",
       "      <td>110.138865</td>\n",
       "      <td>154.568163</td>\n",
       "      <td>1.0</td>\n",
       "      <td>0.741744</td>\n",
       "      <td>0.210838</td>\n",
       "      <td>0.047417</td>\n",
       "      <td>1</td>\n",
       "    </tr>\n",
       "    <tr>\n",
       "      <th>4</th>\n",
       "      <td>California</td>\n",
       "      <td>0.652632</td>\n",
       "      <td>40.421053</td>\n",
       "      <td>1.000000</td>\n",
       "      <td>0.003509</td>\n",
       "      <td>0.975439</td>\n",
       "      <td>23914.459649</td>\n",
       "      <td>113.491228</td>\n",
       "      <td>156.185965</td>\n",
       "      <td>1.0</td>\n",
       "      <td>0.792982</td>\n",
       "      <td>0.154386</td>\n",
       "      <td>0.052632</td>\n",
       "      <td>1</td>\n",
       "    </tr>\n",
       "  </tbody>\n",
       "</table>\n",
       "</div>"
      ],
      "text/plain": [
       "  Region_Code    Gender        Age  Driving_License  Previously_Insured  \\\n",
       "0     Alabama  0.695402  49.270115         1.000000            0.005747   \n",
       "1      Alaska  0.623853  44.779817         1.000000            0.009174   \n",
       "2     Arizona  0.651568  37.498258         0.996516            0.020906   \n",
       "3    Arkanzas  0.609653  40.329382         0.998307            0.006774   \n",
       "4  California  0.652632  40.421053         1.000000            0.003509   \n",
       "\n",
       "   Vehicle_Damage  Annual_Premium  Policy_Sales_Channel     Vintage  Response  \\\n",
       "0        1.000000     5002.798851             59.793103  159.310345       1.0   \n",
       "1        0.990826     3131.376147             94.000000  157.889908       1.0   \n",
       "2        0.972125    25570.641115            117.616725  146.425087       1.0   \n",
       "3        0.971211    23189.732430            110.138865  154.568163       1.0   \n",
       "4        0.975439    23914.459649            113.491228  156.185965       1.0   \n",
       "\n",
       "   Vehicle_Age_1-2 Year  Vehicle_Age_< 1 Year  Vehicle_Age_> 2 Years  \\\n",
       "0              0.729885              0.017241               0.252874   \n",
       "1              0.788991              0.110092               0.100917   \n",
       "2              0.630662              0.310105               0.059233   \n",
       "3              0.741744              0.210838               0.047417   \n",
       "4              0.792982              0.154386               0.052632   \n",
       "\n",
       "   ClusterID  \n",
       "0          2  \n",
       "1          2  \n",
       "2          0  \n",
       "3          1  \n",
       "4          1  "
      ]
     },
     "execution_count": 100,
     "metadata": {},
     "output_type": "execute_result"
    }
   ],
   "source": [
    "df_ClusterProfiling.head()"
   ]
  },
  {
   "cell_type": "markdown",
   "metadata": {},
   "source": [
    "## Ploting"
   ]
  },
  {
   "cell_type": "code",
   "execution_count": 101,
   "metadata": {},
   "outputs": [
    {
     "data": {
      "image/png": "[encoded data removed]",
      "text/plain": [
       "<Figure size 1008x864 with 6 Axes>"
      ]
     },
     "metadata": {
      "needs_background": "light"
     },
     "output_type": "display_data"
    }
   ],
   "source": [
    "# Plotting the box plots to observe distribution\n",
    "plt.figure(figsize = (14,12))\n",
    "var = [ 'Gender', 'Age', 'Previously_Insured', 'Vintage','Vehicle_Damage','Vehicle_Age_< 1 Year']\n",
    "for i in enumerate(var):\n",
    "    plt.subplot(3,3,i[0]+1)\n",
    "    sns.boxplot(x= 'ClusterID', y = i[1], data = df_ClusterProfiling)\n",
    "    "
   ]
  },
  {
   "cell_type": "code",
   "execution_count": 102,
   "metadata": {},
   "outputs": [
    {
     "data": {
      "image/png": "[encoded data removed]",
      "text/plain": [
       "<Figure size 1008x864 with 3 Axes>"
      ]
     },
     "metadata": {
      "needs_background": "light"
     },
     "output_type": "display_data"
    }
   ],
   "source": [
    "# Plotting the box plots to observe distribution\n",
    "plt.figure(figsize = (14,12))\n",
    "var = [ 'Vehicle_Age_1-2 Year', 'Vehicle_Age_> 2 Years', 'Driving_License']\n",
    "for i in enumerate(var):\n",
    "    plt.subplot(3,3,i[0]+1)\n",
    "    sns.boxplot(x= 'ClusterID', y = i[1], data = df_ClusterProfiling)"
   ]
  },
  {
   "cell_type": "code",
   "execution_count": 103,
   "metadata": {},
   "outputs": [
    {
     "data": {
      "text/plain": [
       "2         Arizona\n",
       "5        Colorado\n",
       "7     Connecticut\n",
       "11        Georgia\n",
       "14       Illinois\n",
       "Name: Region_Code, dtype: object"
      ]
     },
     "execution_count": 103,
     "metadata": {},
     "output_type": "execute_result"
    }
   ],
   "source": [
    "df_ClusterProfiling[df_ClusterProfiling['ClusterID'] ==0]['Region_Code'].head()"
   ]
  },
  {
   "cell_type": "code",
   "execution_count": 107,
   "metadata": {},
   "outputs": [
    {
     "data": {
      "text/plain": [
       "3       Arkanzas\n",
       "4     California\n",
       "6       Columbia\n",
       "9       Delaware\n",
       "10       Florida\n",
       "12        Hawaii\n",
       "13         Idaho\n",
       "18      Kentucky\n",
       "19      Luisiana\n",
       "20         Maine\n",
       "Name: Region_Code, dtype: object"
      ]
     },
     "execution_count": 107,
     "metadata": {},
     "output_type": "execute_result"
    }
   ],
   "source": [
    "df_ClusterProfiling[df_ClusterProfiling['ClusterID'] ==1]['Region_Code'].head(10)"
   ]
  },
  {
   "cell_type": "code",
   "execution_count": 105,
   "metadata": {
    "scrolled": true
   },
   "outputs": [
    {
     "data": {
      "text/plain": [
       "0      Alabama\n",
       "1       Alaska\n",
       "8         D.C.\n",
       "21    Maryland\n",
       "23    Michigan\n",
       "Name: Region_Code, dtype: object"
      ]
     },
     "execution_count": 105,
     "metadata": {},
     "output_type": "execute_result"
    }
   ],
   "source": [
    "df_ClusterProfiling[df_ClusterProfiling['ClusterID'] ==2]['Region_Code'].head()"
   ]
  },
  {
   "cell_type": "markdown",
   "metadata": {},
   "source": [
    "## Hierarcical clustering"
   ]
  },
  {
   "cell_type": "markdown",
   "metadata": {
    "scrolled": true
   },
   "source": [
    "- Ward minimizes the sum of squared differences within all clusters. It is a variance-minimizing approach and in this sense is similar to the k-means objective function but tackled with an agglomerative hierarchical approach."
   ]
  },
  {
   "cell_type": "code",
   "execution_count": 384,
   "metadata": {},
   "outputs": [],
   "source": [
    "#df_short"
   ]
  },
  {
   "cell_type": "code",
   "execution_count": 349,
   "metadata": {
    "scrolled": true
   },
   "outputs": [
    {
     "data": {
      "image/png": "[encoded data removed]",
      "text/plain": [
       "<Figure size 1440x1440 with 3 Axes>"
      ]
     },
     "metadata": {},
     "output_type": "display_data"
    }
   ],
   "source": [
    "fig, (ax1,ax2,ax3) = plt.subplots(3,1, figsize=(20,20))\n",
    "\n",
    "for linkage, cluster, ax in zip([hierarchy.complete(df), hierarchy.average(df),hierarchy.ward(df)], ['c1','c2','c3'],\n",
    "                                [ax1,ax2,ax3]):\n",
    "    cluster = hierarchy.dendrogram(linkage,ax=ax, color_threshold=0)\n",
    "\n",
    "ax1.set_title('Complete Linkage')\n",
    "ax2.set_title('Average Linkage')\n",
    "ax3.set_title('Ward');\n"
   ]
  },
  {
   "cell_type": "code",
   "execution_count": 350,
   "metadata": {
    "scrolled": false
   },
   "outputs": [
    {
     "data": {
      "image/png": "[encoded data removed]",
      "text/plain": [
       "<Figure size 720x1080 with 1 Axes>"
      ]
     },
     "metadata": {},
     "output_type": "display_data"
    }
   ],
   "source": [
    "plt.figure(figsize=(10,15))\n",
    "cut = hierarchy.dendrogram(hierarchy.ward(df),\n",
    "                            orientation='right', color_threshold=40, leaf_font_size=10)\n",
    "plt.vlines(10,0,plt.gca().yaxis.get_data_interval()[1], colors='r', linestyles='dashed');"
   ]
  },
  {
   "cell_type": "code",
   "execution_count": 129,
   "metadata": {},
   "outputs": [
    {
     "data": {
      "image/png": "[encoded data removed]",
      "text/plain": [
       "<Figure size 1152x864 with 9 Axes>"
      ]
     },
     "metadata": {
      "needs_background": "light"
     },
     "output_type": "display_data"
    }
   ],
   "source": [
    "from pandas.plotting import scatter_matrix \n",
    "# Y=df_ClusterProfiling.copy()\n",
    "# features=['Gender', 'Age','Previously_Insured','Annual_Premium', 'Vintage','Vehicle_Damage' ]\n",
    "scatter_matrix(df,figsize=(16,12)) \n",
    "plt.show()"
   ]
  }
 ],
 "metadata": {
  "kernelspec": {
   "display_name": "Python 3",
   "language": "python",
   "name": "python3"
  },
  "language_info": {
   "codemirror_mode": {
    "name": "ipython",
    "version": 3
   },
   "file_extension": ".py",
   "mimetype": "text/x-python",
   "name": "python",
   "nbconvert_exporter": "python",
   "pygments_lexer": "ipython3",
   "version": "3.7.7"
  }
 },
 "nbformat": 4,
 "nbformat_minor": 4
}
